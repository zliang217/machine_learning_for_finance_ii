{
 "cells": [
  {
   "cell_type": "markdown",
   "id": "329423f6",
   "metadata": {},
   "source": [
    "# Basic Data Tools: Pandas"
   ]
  },
  {
   "cell_type": "markdown",
   "id": "0fc760ee",
   "metadata": {},
   "source": [
    "## Basics"
   ]
  },
  {
   "cell_type": "markdown",
   "id": "2afcf54f",
   "metadata": {},
   "source": [
    "The Pandas package introduces a very powerful data structure for working with labeled data in python: Dataframe. Each column represents a different type of data. The columns are named, so we will know what each entry in a column signifies. Each row represents a different entry in the dataset.\n",
    "\n",
    "At its core, pandas builds on top of numpy, so it is a bit slower than writing optimal code in numpy, but it is more convenient and appropriate for most use-cases. "
   ]
  },
  {
   "cell_type": "code",
   "execution_count": 2,
   "id": "1ef72ed4",
   "metadata": {},
   "outputs": [],
   "source": [
    "import pandas as pd\n",
    "import numpy as np\n",
    "import warnings\n",
    "warnings.filterwarnings('ignore')"
   ]
  },
  {
   "cell_type": "code",
   "execution_count": 3,
   "id": "4c63baf1",
   "metadata": {},
   "outputs": [
    {
     "data": {
      "text/html": [
       "<div>\n",
       "<style scoped>\n",
       "    .dataframe tbody tr th:only-of-type {\n",
       "        vertical-align: middle;\n",
       "    }\n",
       "\n",
       "    .dataframe tbody tr th {\n",
       "        vertical-align: top;\n",
       "    }\n",
       "\n",
       "    .dataframe thead th {\n",
       "        text-align: right;\n",
       "    }\n",
       "</style>\n",
       "<table border=\"1\" class=\"dataframe\">\n",
       "  <thead>\n",
       "    <tr style=\"text-align: right;\">\n",
       "      <th></th>\n",
       "      <th>Company</th>\n",
       "      <th>Industry Type</th>\n",
       "      <th>Number of Employees</th>\n",
       "    </tr>\n",
       "  </thead>\n",
       "  <tbody>\n",
       "    <tr>\n",
       "      <th>0</th>\n",
       "      <td>Jane Street</td>\n",
       "      <td>Proprietary Trading</td>\n",
       "      <td>1200</td>\n",
       "    </tr>\n",
       "    <tr>\n",
       "      <th>1</th>\n",
       "      <td>Citadel</td>\n",
       "      <td>Hedge Fund</td>\n",
       "      <td>1400</td>\n",
       "    </tr>\n",
       "    <tr>\n",
       "      <th>2</th>\n",
       "      <td>Two Sigma</td>\n",
       "      <td>Hedge Fund</td>\n",
       "      <td>1600</td>\n",
       "    </tr>\n",
       "    <tr>\n",
       "      <th>3</th>\n",
       "      <td>Goldman Sachs</td>\n",
       "      <td>Investment Bank</td>\n",
       "      <td>40500</td>\n",
       "    </tr>\n",
       "    <tr>\n",
       "      <th>4</th>\n",
       "      <td>Morgan Stanley</td>\n",
       "      <td>Investment Bank</td>\n",
       "      <td>68000</td>\n",
       "    </tr>\n",
       "  </tbody>\n",
       "</table>\n",
       "</div>"
      ],
      "text/plain": [
       "          Company        Industry Type  Number of Employees\n",
       "0     Jane Street  Proprietary Trading                 1200\n",
       "1         Citadel           Hedge Fund                 1400\n",
       "2       Two Sigma           Hedge Fund                 1600\n",
       "3   Goldman Sachs      Investment Bank                40500\n",
       "4  Morgan Stanley      Investment Bank                68000"
      ]
     },
     "execution_count": 3,
     "metadata": {},
     "output_type": "execute_result"
    }
   ],
   "source": [
    "companies = ['Jane Street', 'Citadel', 'Two Sigma', 'Goldman Sachs', 'Morgan Stanley']\n",
    "Employees = [1200,1400,1600,40500,68000]\n",
    "company_type = ['Proprietary Trading', 'Hedge Fund', 'Hedge Fund', 'Investment Bank', 'Investment Bank']\n",
    "\n",
    "initial_comp_df = pd.DataFrame({'Company': companies, 'Industry Type': company_type, 'Number of Employees': Employees})\n",
    "initial_comp_df"
   ]
  },
  {
   "cell_type": "code",
   "execution_count": 4,
   "id": "2090ea67",
   "metadata": {},
   "outputs": [
    {
     "data": {
      "text/html": [
       "<div>\n",
       "<style scoped>\n",
       "    .dataframe tbody tr th:only-of-type {\n",
       "        vertical-align: middle;\n",
       "    }\n",
       "\n",
       "    .dataframe tbody tr th {\n",
       "        vertical-align: top;\n",
       "    }\n",
       "\n",
       "    .dataframe thead th {\n",
       "        text-align: right;\n",
       "    }\n",
       "</style>\n",
       "<table border=\"1\" class=\"dataframe\">\n",
       "  <thead>\n",
       "    <tr style=\"text-align: right;\">\n",
       "      <th></th>\n",
       "      <th>Industry Type</th>\n",
       "      <th>Number of Employees</th>\n",
       "    </tr>\n",
       "  </thead>\n",
       "  <tbody>\n",
       "    <tr>\n",
       "      <th>Jane Street</th>\n",
       "      <td>Proprietary Trading</td>\n",
       "      <td>1200</td>\n",
       "    </tr>\n",
       "    <tr>\n",
       "      <th>Citadel</th>\n",
       "      <td>Hedge Fund</td>\n",
       "      <td>1400</td>\n",
       "    </tr>\n",
       "    <tr>\n",
       "      <th>Two Sigma</th>\n",
       "      <td>Hedge Fund</td>\n",
       "      <td>1600</td>\n",
       "    </tr>\n",
       "    <tr>\n",
       "      <th>Goldman Sachs</th>\n",
       "      <td>Investment Bank</td>\n",
       "      <td>40500</td>\n",
       "    </tr>\n",
       "    <tr>\n",
       "      <th>Morgan Stanley</th>\n",
       "      <td>Investment Bank</td>\n",
       "      <td>68000</td>\n",
       "    </tr>\n",
       "  </tbody>\n",
       "</table>\n",
       "</div>"
      ],
      "text/plain": [
       "                      Industry Type  Number of Employees\n",
       "Jane Street     Proprietary Trading                 1200\n",
       "Citadel                  Hedge Fund                 1400\n",
       "Two Sigma                Hedge Fund                 1600\n",
       "Goldman Sachs       Investment Bank                40500\n",
       "Morgan Stanley      Investment Bank                68000"
      ]
     },
     "execution_count": 4,
     "metadata": {},
     "output_type": "execute_result"
    }
   ],
   "source": [
    "# Index by company instead of integers\n",
    "comp_df = pd.DataFrame({'Industry Type':company_type,'Number of Employees':Employees}, index = companies)\n",
    "comp_df"
   ]
  },
  {
   "cell_type": "code",
   "execution_count": 5,
   "id": "085b3b5c",
   "metadata": {},
   "outputs": [
    {
     "data": {
      "text/html": [
       "<div>\n",
       "<style scoped>\n",
       "    .dataframe tbody tr th:only-of-type {\n",
       "        vertical-align: middle;\n",
       "    }\n",
       "\n",
       "    .dataframe tbody tr th {\n",
       "        vertical-align: top;\n",
       "    }\n",
       "\n",
       "    .dataframe thead th {\n",
       "        text-align: right;\n",
       "    }\n",
       "</style>\n",
       "<table border=\"1\" class=\"dataframe\">\n",
       "  <thead>\n",
       "    <tr style=\"text-align: right;\">\n",
       "      <th></th>\n",
       "      <th>Industry Type</th>\n",
       "      <th>Number of Employees</th>\n",
       "    </tr>\n",
       "  </thead>\n",
       "  <tbody>\n",
       "    <tr>\n",
       "      <th>Jane Street</th>\n",
       "      <td>Proprietary Trading</td>\n",
       "      <td>1200</td>\n",
       "    </tr>\n",
       "    <tr>\n",
       "      <th>Citadel</th>\n",
       "      <td>Hedge Fund</td>\n",
       "      <td>1400</td>\n",
       "    </tr>\n",
       "    <tr>\n",
       "      <th>Two Sigma</th>\n",
       "      <td>Hedge Fund</td>\n",
       "      <td>1600</td>\n",
       "    </tr>\n",
       "    <tr>\n",
       "      <th>Goldman Sachs</th>\n",
       "      <td>Investment Bank</td>\n",
       "      <td>40500</td>\n",
       "    </tr>\n",
       "    <tr>\n",
       "      <th>Morgan Stanley</th>\n",
       "      <td>Investment Bank</td>\n",
       "      <td>68000</td>\n",
       "    </tr>\n",
       "  </tbody>\n",
       "</table>\n",
       "</div>"
      ],
      "text/plain": [
       "                      Industry Type  Number of Employees\n",
       "Jane Street     Proprietary Trading                 1200\n",
       "Citadel                  Hedge Fund                 1400\n",
       "Two Sigma                Hedge Fund                 1600\n",
       "Goldman Sachs       Investment Bank                40500\n",
       "Morgan Stanley      Investment Bank                68000"
      ]
     },
     "execution_count": 5,
     "metadata": {},
     "output_type": "execute_result"
    }
   ],
   "source": [
    "# Another way to create the same DataFrame\n",
    "comp_df = pd.DataFrame(list(zip(company_type,Employees)),columns = ['Industry Type','Number of Employees'], index = companies)\n",
    "comp_df"
   ]
  },
  {
   "cell_type": "markdown",
   "id": "f152f824",
   "metadata": {},
   "source": [
    "Dataframes have similarities to both dictionaries and numpy nd-arrays. We can retrive a column from a dataframe by using its name, just as we used to retrive an item from dictionary using its key\n"
   ]
  },
  {
   "cell_type": "code",
   "execution_count": 6,
   "id": "275d831f",
   "metadata": {},
   "outputs": [
    {
     "data": {
      "text/plain": [
       "Jane Street        1200\n",
       "Citadel            1400\n",
       "Two Sigma          1600\n",
       "Goldman Sachs     40500\n",
       "Morgan Stanley    68000\n",
       "Name: Number of Employees, dtype: int64"
      ]
     },
     "execution_count": 6,
     "metadata": {},
     "output_type": "execute_result"
    }
   ],
   "source": [
    "comp_df['Number of Employees'] "
   ]
  },
  {
   "cell_type": "code",
   "execution_count": null,
   "id": "c7b7bd6f",
   "metadata": {},
   "outputs": [],
   "source": [
    "# TODO: what does comp_df.shape give you?"
   ]
  },
  {
   "cell_type": "markdown",
   "id": "c7187a8a",
   "metadata": {},
   "source": [
    "Just like we saw retriving columns by using its name, rows can also be accessed using **loc** method:-"
   ]
  },
  {
   "cell_type": "code",
   "execution_count": null,
   "id": "2da8fd3f",
   "metadata": {},
   "outputs": [],
   "source": [
    "comp_df.loc['Two Sigma'] #displaying the row Two Sigma\n",
    "# QUESTION: how is this different from just Dataframe slicing?"
   ]
  },
  {
   "cell_type": "code",
   "execution_count": null,
   "id": "60a52183",
   "metadata": {},
   "outputs": [],
   "source": [
    "comp_df.loc['Two Sigma','Number of Employees'] #number of employees in two sigma retrived"
   ]
  },
  {
   "cell_type": "code",
   "execution_count": null,
   "id": "615f7db7",
   "metadata": {},
   "outputs": [],
   "source": [
    "comp_df.loc['Two Sigma':'Morgan Stanley','Number of Employees'] #slicing a subsection"
   ]
  },
  {
   "cell_type": "code",
   "execution_count": null,
   "id": "0d6e2d4a",
   "metadata": {},
   "outputs": [],
   "source": [
    "comp_df.loc['Citadel':'Goldman Sachs','Industry Type'] #slicing a subsection"
   ]
  },
  {
   "cell_type": "markdown",
   "id": "c83e85dd",
   "metadata": {},
   "source": [
    "Adding a new row and column in dataframe is also quite simple and analogous to working with a dictionary. Similar is the case with dropping columns as well. Let us take a look at few examples:-"
   ]
  },
  {
   "cell_type": "code",
   "execution_count": null,
   "id": "8474b5cc",
   "metadata": {},
   "outputs": [],
   "source": [
    "comp_df['Attrition(in %)'] = [10,12,15,20,25] #an example of adding a column\n",
    "comp_df"
   ]
  },
  {
   "cell_type": "code",
   "execution_count": null,
   "id": "ca711ce2",
   "metadata": {},
   "outputs": [],
   "source": [
    "comp_df.loc['JP Morgan',:] = ['Investment Bank',100000,20] \n",
    "# QUESTION: what does this do?"
   ]
  },
  {
   "cell_type": "code",
   "execution_count": null,
   "id": "04f9af74",
   "metadata": {},
   "outputs": [],
   "source": [
    "comp_df.drop('Attrition(in %)',axis = 1, inplace = True) #dropping a column\n",
    "comp_df"
   ]
  },
  {
   "cell_type": "code",
   "execution_count": null,
   "id": "6ac10363",
   "metadata": {},
   "outputs": [],
   "source": [
    "comp_df.sort_values(['Number of Employees'], ascending = False) #sorting a column"
   ]
  },
  {
   "cell_type": "markdown",
   "id": "1de5847d",
   "metadata": {},
   "source": [
    "## Operations on DataFrames using Yahoo Finance Data "
   ]
  },
  {
   "cell_type": "markdown",
   "id": "ebd822ba",
   "metadata": {},
   "source": [
    "We will use a custom package to get data from **yahoo finance** to get stock prices of a few companies and then will learn about some dataframe operations and applying functions to it "
   ]
  },
  {
   "cell_type": "code",
   "execution_count": 7,
   "id": "ffc94bd3",
   "metadata": {},
   "outputs": [],
   "source": [
    "import yfinance as yf"
   ]
  },
  {
   "cell_type": "code",
   "execution_count": 8,
   "id": "a73bfbc4",
   "metadata": {},
   "outputs": [
    {
     "name": "stderr",
     "output_type": "stream",
     "text": [
      "[*********************100%***********************]  7 of 7 completed\n"
     ]
    },
    {
     "data": {
      "text/html": [
       "<div>\n",
       "<style scoped>\n",
       "    .dataframe tbody tr th:only-of-type {\n",
       "        vertical-align: middle;\n",
       "    }\n",
       "\n",
       "    .dataframe tbody tr th {\n",
       "        vertical-align: top;\n",
       "    }\n",
       "\n",
       "    .dataframe thead tr th {\n",
       "        text-align: left;\n",
       "    }\n",
       "\n",
       "    .dataframe thead tr:last-of-type th {\n",
       "        text-align: right;\n",
       "    }\n",
       "</style>\n",
       "<table border=\"1\" class=\"dataframe\">\n",
       "  <thead>\n",
       "    <tr>\n",
       "      <th>Price</th>\n",
       "      <th colspan=\"7\" halign=\"left\">Adj Close</th>\n",
       "      <th colspan=\"3\" halign=\"left\">Close</th>\n",
       "      <th>...</th>\n",
       "      <th colspan=\"3\" halign=\"left\">Open</th>\n",
       "      <th colspan=\"7\" halign=\"left\">Volume</th>\n",
       "    </tr>\n",
       "    <tr>\n",
       "      <th>Ticker</th>\n",
       "      <th>AAPL</th>\n",
       "      <th>AMZN</th>\n",
       "      <th>GOOG</th>\n",
       "      <th>META</th>\n",
       "      <th>MSFT</th>\n",
       "      <th>NFLX</th>\n",
       "      <th>NVDA</th>\n",
       "      <th>AAPL</th>\n",
       "      <th>AMZN</th>\n",
       "      <th>GOOG</th>\n",
       "      <th>...</th>\n",
       "      <th>MSFT</th>\n",
       "      <th>NFLX</th>\n",
       "      <th>NVDA</th>\n",
       "      <th>AAPL</th>\n",
       "      <th>AMZN</th>\n",
       "      <th>GOOG</th>\n",
       "      <th>META</th>\n",
       "      <th>MSFT</th>\n",
       "      <th>NFLX</th>\n",
       "      <th>NVDA</th>\n",
       "    </tr>\n",
       "    <tr>\n",
       "      <th>Date</th>\n",
       "      <th></th>\n",
       "      <th></th>\n",
       "      <th></th>\n",
       "      <th></th>\n",
       "      <th></th>\n",
       "      <th></th>\n",
       "      <th></th>\n",
       "      <th></th>\n",
       "      <th></th>\n",
       "      <th></th>\n",
       "      <th></th>\n",
       "      <th></th>\n",
       "      <th></th>\n",
       "      <th></th>\n",
       "      <th></th>\n",
       "      <th></th>\n",
       "      <th></th>\n",
       "      <th></th>\n",
       "      <th></th>\n",
       "      <th></th>\n",
       "      <th></th>\n",
       "    </tr>\n",
       "  </thead>\n",
       "  <tbody>\n",
       "    <tr>\n",
       "      <th>2023-08-30 00:00:00+00:00</th>\n",
       "      <td>186.694672</td>\n",
       "      <td>135.070007</td>\n",
       "      <td>136.594543</td>\n",
       "      <td>294.494843</td>\n",
       "      <td>326.340485</td>\n",
       "      <td>434.670013</td>\n",
       "      <td>49.245037</td>\n",
       "      <td>187.649994</td>\n",
       "      <td>135.070007</td>\n",
       "      <td>136.929993</td>\n",
       "      <td>...</td>\n",
       "      <td>328.670013</td>\n",
       "      <td>430.850006</td>\n",
       "      <td>49.043999</td>\n",
       "      <td>60813900</td>\n",
       "      <td>36137000</td>\n",
       "      <td>21773400</td>\n",
       "      <td>17717000</td>\n",
       "      <td>15222100</td>\n",
       "      <td>3625400</td>\n",
       "      <td>735206000</td>\n",
       "    </tr>\n",
       "    <tr>\n",
       "      <th>2023-08-31 00:00:00+00:00</th>\n",
       "      <td>186.913528</td>\n",
       "      <td>138.009995</td>\n",
       "      <td>137.013519</td>\n",
       "      <td>295.283234</td>\n",
       "      <td>325.318176</td>\n",
       "      <td>433.679993</td>\n",
       "      <td>49.336006</td>\n",
       "      <td>187.869995</td>\n",
       "      <td>138.009995</td>\n",
       "      <td>137.350006</td>\n",
       "      <td>...</td>\n",
       "      <td>329.200012</td>\n",
       "      <td>431.230011</td>\n",
       "      <td>49.380001</td>\n",
       "      <td>60794500</td>\n",
       "      <td>58781300</td>\n",
       "      <td>28147900</td>\n",
       "      <td>17229900</td>\n",
       "      <td>26411000</td>\n",
       "      <td>3803000</td>\n",
       "      <td>528570000</td>\n",
       "    </tr>\n",
       "    <tr>\n",
       "      <th>2023-09-01 00:00:00+00:00</th>\n",
       "      <td>188.495468</td>\n",
       "      <td>138.119995</td>\n",
       "      <td>136.464859</td>\n",
       "      <td>295.772217</td>\n",
       "      <td>326.211456</td>\n",
       "      <td>439.880005</td>\n",
       "      <td>48.490334</td>\n",
       "      <td>189.460007</td>\n",
       "      <td>138.119995</td>\n",
       "      <td>136.800003</td>\n",
       "      <td>...</td>\n",
       "      <td>331.309998</td>\n",
       "      <td>437.730011</td>\n",
       "      <td>49.762001</td>\n",
       "      <td>45732600</td>\n",
       "      <td>40948300</td>\n",
       "      <td>16665700</td>\n",
       "      <td>12819800</td>\n",
       "      <td>14931200</td>\n",
       "      <td>4792100</td>\n",
       "      <td>463830000</td>\n",
       "    </tr>\n",
       "    <tr>\n",
       "      <th>2023-09-05 00:00:00+00:00</th>\n",
       "      <td>188.734238</td>\n",
       "      <td>137.270004</td>\n",
       "      <td>136.375092</td>\n",
       "      <td>299.534485</td>\n",
       "      <td>331.065002</td>\n",
       "      <td>448.679993</td>\n",
       "      <td>48.529320</td>\n",
       "      <td>189.699997</td>\n",
       "      <td>137.270004</td>\n",
       "      <td>136.710007</td>\n",
       "      <td>...</td>\n",
       "      <td>329.000000</td>\n",
       "      <td>438.390015</td>\n",
       "      <td>48.223000</td>\n",
       "      <td>45280000</td>\n",
       "      <td>40636700</td>\n",
       "      <td>17730200</td>\n",
       "      <td>14956000</td>\n",
       "      <td>18553900</td>\n",
       "      <td>6155900</td>\n",
       "      <td>382653000</td>\n",
       "    </tr>\n",
       "    <tr>\n",
       "      <th>2023-09-06 00:00:00+00:00</th>\n",
       "      <td>181.978806</td>\n",
       "      <td>135.360001</td>\n",
       "      <td>135.038361</td>\n",
       "      <td>298.556488</td>\n",
       "      <td>330.399994</td>\n",
       "      <td>445.760010</td>\n",
       "      <td>47.046768</td>\n",
       "      <td>182.910004</td>\n",
       "      <td>135.360001</td>\n",
       "      <td>135.369995</td>\n",
       "      <td>...</td>\n",
       "      <td>333.380005</td>\n",
       "      <td>448.609985</td>\n",
       "      <td>48.441002</td>\n",
       "      <td>81755800</td>\n",
       "      <td>41785500</td>\n",
       "      <td>15814300</td>\n",
       "      <td>15418100</td>\n",
       "      <td>17535800</td>\n",
       "      <td>3862300</td>\n",
       "      <td>468670000</td>\n",
       "    </tr>\n",
       "  </tbody>\n",
       "</table>\n",
       "<p>5 rows × 42 columns</p>\n",
       "</div>"
      ],
      "text/plain": [
       "Price                       Adj Close                                      \\\n",
       "Ticker                           AAPL        AMZN        GOOG        META   \n",
       "Date                                                                        \n",
       "2023-08-30 00:00:00+00:00  186.694672  135.070007  136.594543  294.494843   \n",
       "2023-08-31 00:00:00+00:00  186.913528  138.009995  137.013519  295.283234   \n",
       "2023-09-01 00:00:00+00:00  188.495468  138.119995  136.464859  295.772217   \n",
       "2023-09-05 00:00:00+00:00  188.734238  137.270004  136.375092  299.534485   \n",
       "2023-09-06 00:00:00+00:00  181.978806  135.360001  135.038361  298.556488   \n",
       "\n",
       "Price                                                              Close  \\\n",
       "Ticker                           MSFT        NFLX       NVDA        AAPL   \n",
       "Date                                                                       \n",
       "2023-08-30 00:00:00+00:00  326.340485  434.670013  49.245037  187.649994   \n",
       "2023-08-31 00:00:00+00:00  325.318176  433.679993  49.336006  187.869995   \n",
       "2023-09-01 00:00:00+00:00  326.211456  439.880005  48.490334  189.460007   \n",
       "2023-09-05 00:00:00+00:00  331.065002  448.679993  48.529320  189.699997   \n",
       "2023-09-06 00:00:00+00:00  330.399994  445.760010  47.046768  182.910004   \n",
       "\n",
       "Price                                              ...        Open  \\\n",
       "Ticker                           AMZN        GOOG  ...        MSFT   \n",
       "Date                                               ...               \n",
       "2023-08-30 00:00:00+00:00  135.070007  136.929993  ...  328.670013   \n",
       "2023-08-31 00:00:00+00:00  138.009995  137.350006  ...  329.200012   \n",
       "2023-09-01 00:00:00+00:00  138.119995  136.800003  ...  331.309998   \n",
       "2023-09-05 00:00:00+00:00  137.270004  136.710007  ...  329.000000   \n",
       "2023-09-06 00:00:00+00:00  135.360001  135.369995  ...  333.380005   \n",
       "\n",
       "Price                                               Volume            \\\n",
       "Ticker                           NFLX       NVDA      AAPL      AMZN   \n",
       "Date                                                                   \n",
       "2023-08-30 00:00:00+00:00  430.850006  49.043999  60813900  36137000   \n",
       "2023-08-31 00:00:00+00:00  431.230011  49.380001  60794500  58781300   \n",
       "2023-09-01 00:00:00+00:00  437.730011  49.762001  45732600  40948300   \n",
       "2023-09-05 00:00:00+00:00  438.390015  48.223000  45280000  40636700   \n",
       "2023-09-06 00:00:00+00:00  448.609985  48.441002  81755800  41785500   \n",
       "\n",
       "Price                                                                        \n",
       "Ticker                         GOOG      META      MSFT     NFLX       NVDA  \n",
       "Date                                                                         \n",
       "2023-08-30 00:00:00+00:00  21773400  17717000  15222100  3625400  735206000  \n",
       "2023-08-31 00:00:00+00:00  28147900  17229900  26411000  3803000  528570000  \n",
       "2023-09-01 00:00:00+00:00  16665700  12819800  14931200  4792100  463830000  \n",
       "2023-09-05 00:00:00+00:00  17730200  14956000  18553900  6155900  382653000  \n",
       "2023-09-06 00:00:00+00:00  15814300  15418100  17535800  3862300  468670000  \n",
       "\n",
       "[5 rows x 42 columns]"
      ]
     },
     "execution_count": 8,
     "metadata": {},
     "output_type": "execute_result"
    }
   ],
   "source": [
    "\n",
    "# download dataframe\n",
    "FAANG_data = yf.download(\"META AAPL GOOG MSFT AMZN NFLX NVDA\", start=\"2023-08-30\", end=\"2024-08-30\")\n",
    "#generally when we have a very large data, to get a feel for a data we generally display first few entries in dataframe\n",
    "\n",
    "FAANG_data.head()"
   ]
  },
  {
   "cell_type": "code",
   "execution_count": 9,
   "id": "6229098f",
   "metadata": {},
   "outputs": [
    {
     "data": {
      "text/html": [
       "<div>\n",
       "<style scoped>\n",
       "    .dataframe tbody tr th:only-of-type {\n",
       "        vertical-align: middle;\n",
       "    }\n",
       "\n",
       "    .dataframe tbody tr th {\n",
       "        vertical-align: top;\n",
       "    }\n",
       "\n",
       "    .dataframe thead th {\n",
       "        text-align: right;\n",
       "    }\n",
       "</style>\n",
       "<table border=\"1\" class=\"dataframe\">\n",
       "  <thead>\n",
       "    <tr style=\"text-align: right;\">\n",
       "      <th>Ticker</th>\n",
       "      <th>AAPL</th>\n",
       "      <th>AMZN</th>\n",
       "      <th>GOOG</th>\n",
       "      <th>META</th>\n",
       "      <th>MSFT</th>\n",
       "      <th>NFLX</th>\n",
       "      <th>NVDA</th>\n",
       "    </tr>\n",
       "    <tr>\n",
       "      <th>Date</th>\n",
       "      <th></th>\n",
       "      <th></th>\n",
       "      <th></th>\n",
       "      <th></th>\n",
       "      <th></th>\n",
       "      <th></th>\n",
       "      <th></th>\n",
       "    </tr>\n",
       "  </thead>\n",
       "  <tbody>\n",
       "    <tr>\n",
       "      <th>2023-08-30 00:00:00+00:00</th>\n",
       "      <td>187.649994</td>\n",
       "      <td>135.070007</td>\n",
       "      <td>136.929993</td>\n",
       "      <td>295.100006</td>\n",
       "      <td>328.790009</td>\n",
       "      <td>434.670013</td>\n",
       "      <td>49.264000</td>\n",
       "    </tr>\n",
       "    <tr>\n",
       "      <th>2023-08-31 00:00:00+00:00</th>\n",
       "      <td>187.869995</td>\n",
       "      <td>138.009995</td>\n",
       "      <td>137.350006</td>\n",
       "      <td>295.890015</td>\n",
       "      <td>327.760010</td>\n",
       "      <td>433.679993</td>\n",
       "      <td>49.355000</td>\n",
       "    </tr>\n",
       "    <tr>\n",
       "      <th>2023-09-01 00:00:00+00:00</th>\n",
       "      <td>189.460007</td>\n",
       "      <td>138.119995</td>\n",
       "      <td>136.800003</td>\n",
       "      <td>296.380005</td>\n",
       "      <td>328.660004</td>\n",
       "      <td>439.880005</td>\n",
       "      <td>48.508999</td>\n",
       "    </tr>\n",
       "    <tr>\n",
       "      <th>2023-09-05 00:00:00+00:00</th>\n",
       "      <td>189.699997</td>\n",
       "      <td>137.270004</td>\n",
       "      <td>136.710007</td>\n",
       "      <td>300.149994</td>\n",
       "      <td>333.549988</td>\n",
       "      <td>448.679993</td>\n",
       "      <td>48.548000</td>\n",
       "    </tr>\n",
       "    <tr>\n",
       "      <th>2023-09-06 00:00:00+00:00</th>\n",
       "      <td>182.910004</td>\n",
       "      <td>135.360001</td>\n",
       "      <td>135.369995</td>\n",
       "      <td>299.170013</td>\n",
       "      <td>332.880005</td>\n",
       "      <td>445.760010</td>\n",
       "      <td>47.061001</td>\n",
       "    </tr>\n",
       "  </tbody>\n",
       "</table>\n",
       "</div>"
      ],
      "text/plain": [
       "Ticker                           AAPL        AMZN        GOOG        META  \\\n",
       "Date                                                                        \n",
       "2023-08-30 00:00:00+00:00  187.649994  135.070007  136.929993  295.100006   \n",
       "2023-08-31 00:00:00+00:00  187.869995  138.009995  137.350006  295.890015   \n",
       "2023-09-01 00:00:00+00:00  189.460007  138.119995  136.800003  296.380005   \n",
       "2023-09-05 00:00:00+00:00  189.699997  137.270004  136.710007  300.149994   \n",
       "2023-09-06 00:00:00+00:00  182.910004  135.360001  135.369995  299.170013   \n",
       "\n",
       "Ticker                           MSFT        NFLX       NVDA  \n",
       "Date                                                          \n",
       "2023-08-30 00:00:00+00:00  328.790009  434.670013  49.264000  \n",
       "2023-08-31 00:00:00+00:00  327.760010  433.679993  49.355000  \n",
       "2023-09-01 00:00:00+00:00  328.660004  439.880005  48.508999  \n",
       "2023-09-05 00:00:00+00:00  333.549988  448.679993  48.548000  \n",
       "2023-09-06 00:00:00+00:00  332.880005  445.760010  47.061001  "
      ]
     },
     "execution_count": 9,
     "metadata": {},
     "output_type": "execute_result"
    }
   ],
   "source": [
    "FAANG_data = FAANG_data.Close #getting closing prices for each of the stock\n",
    "FAANG_data.head()"
   ]
  },
  {
   "cell_type": "code",
   "execution_count": 10,
   "id": "4c8db4d7",
   "metadata": {},
   "outputs": [
    {
     "name": "stderr",
     "output_type": "stream",
     "text": [
      "Matplotlib is building the font cache; this may take a moment.\n"
     ]
    },
    {
     "data": {
      "text/plain": [
       "<Axes: xlabel='Date'>"
      ]
     },
     "execution_count": 10,
     "metadata": {},
     "output_type": "execute_result"
    },
    {
     "data": {
      "image/png": "[encoded data removed]",
      "text/plain": [
       "<Figure size 640x480 with 1 Axes>"
      ]
     },
     "metadata": {},
     "output_type": "display_data"
    }
   ],
   "source": [
    "FAANG_data.plot(use_index='True') #plot of stock prices"
   ]
  },
  {
   "cell_type": "markdown",
   "id": "c6d5dd1a",
   "metadata": {},
   "source": [
    "### Filter, Plot and Apply"
   ]
  },
  {
   "cell_type": "markdown",
   "id": "6c4f71ad",
   "metadata": {},
   "source": [
    "One of the important functionalities in Pandas in filtering dataframes. Often we want to work with a subset of data, based on some criteria. Let us take a look at few examples:-"
   ]
  },
  {
   "cell_type": "code",
   "execution_count": 11,
   "id": "79b0c0bc",
   "metadata": {},
   "outputs": [],
   "source": [
    "# TODO: print the shape of FAANG_data before and after filtering\n",
    "FAANG_data_filtered = FAANG_data[(FAANG_data['AMZN'] < 190) & (FAANG_data['GOOG'] < 250)]\n"
   ]
  },
  {
   "cell_type": "markdown",
   "id": "a4e494bb",
   "metadata": {},
   "source": [
    "Normally in python, we use **and**, **or** while writing programs. However, when dealing with Series-style datatypes (Series and Dataframes), we will have to use bitwise operations which are as follows:-\n",
    "\n",
    "& - and <br>\n",
    "or - | <br>\n",
    "not - ~ <br>"
   ]
  },
  {
   "cell_type": "code",
   "execution_count": null,
   "id": "58d406ad",
   "metadata": {},
   "outputs": [],
   "source": [
    "# TODO: Use 'and' instead of '&' for the filtering condition and see what happens\n"
   ]
  },
  {
   "cell_type": "code",
   "execution_count": 12,
   "id": "70ad9b4e",
   "metadata": {},
   "outputs": [
    {
     "data": {
      "text/html": [
       "<div>\n",
       "<style scoped>\n",
       "    .dataframe tbody tr th:only-of-type {\n",
       "        vertical-align: middle;\n",
       "    }\n",
       "\n",
       "    .dataframe tbody tr th {\n",
       "        vertical-align: top;\n",
       "    }\n",
       "\n",
       "    .dataframe thead th {\n",
       "        text-align: right;\n",
       "    }\n",
       "</style>\n",
       "<table border=\"1\" class=\"dataframe\">\n",
       "  <thead>\n",
       "    <tr style=\"text-align: right;\">\n",
       "      <th>Ticker</th>\n",
       "      <th>AAPL</th>\n",
       "      <th>AMZN</th>\n",
       "      <th>GOOG</th>\n",
       "      <th>META</th>\n",
       "      <th>MSFT</th>\n",
       "      <th>NFLX</th>\n",
       "      <th>NVDA</th>\n",
       "    </tr>\n",
       "    <tr>\n",
       "      <th>Date</th>\n",
       "      <th></th>\n",
       "      <th></th>\n",
       "      <th></th>\n",
       "      <th></th>\n",
       "      <th></th>\n",
       "      <th></th>\n",
       "      <th></th>\n",
       "    </tr>\n",
       "  </thead>\n",
       "  <tbody>\n",
       "    <tr>\n",
       "      <th>2024-08-23 00:00:00+00:00</th>\n",
       "      <td>226.839996</td>\n",
       "      <td>177.039993</td>\n",
       "      <td>167.429993</td>\n",
       "      <td>528.000000</td>\n",
       "      <td>416.790009</td>\n",
       "      <td>686.729980</td>\n",
       "      <td>129.369995</td>\n",
       "    </tr>\n",
       "    <tr>\n",
       "      <th>2024-08-26 00:00:00+00:00</th>\n",
       "      <td>227.179993</td>\n",
       "      <td>175.500000</td>\n",
       "      <td>167.929993</td>\n",
       "      <td>521.119995</td>\n",
       "      <td>413.489990</td>\n",
       "      <td>688.440002</td>\n",
       "      <td>126.459999</td>\n",
       "    </tr>\n",
       "    <tr>\n",
       "      <th>2024-08-27 00:00:00+00:00</th>\n",
       "      <td>228.029999</td>\n",
       "      <td>173.119995</td>\n",
       "      <td>166.380005</td>\n",
       "      <td>519.099976</td>\n",
       "      <td>413.839996</td>\n",
       "      <td>695.719971</td>\n",
       "      <td>128.300003</td>\n",
       "    </tr>\n",
       "    <tr>\n",
       "      <th>2024-08-28 00:00:00+00:00</th>\n",
       "      <td>226.490005</td>\n",
       "      <td>170.800003</td>\n",
       "      <td>164.500000</td>\n",
       "      <td>516.780029</td>\n",
       "      <td>410.600006</td>\n",
       "      <td>683.840027</td>\n",
       "      <td>125.610001</td>\n",
       "    </tr>\n",
       "    <tr>\n",
       "      <th>2024-08-29 00:00:00+00:00</th>\n",
       "      <td>229.789993</td>\n",
       "      <td>172.119995</td>\n",
       "      <td>163.399994</td>\n",
       "      <td>518.219971</td>\n",
       "      <td>413.119995</td>\n",
       "      <td>692.479980</td>\n",
       "      <td>117.589996</td>\n",
       "    </tr>\n",
       "  </tbody>\n",
       "</table>\n",
       "</div>"
      ],
      "text/plain": [
       "Ticker                           AAPL        AMZN        GOOG        META  \\\n",
       "Date                                                                        \n",
       "2024-08-23 00:00:00+00:00  226.839996  177.039993  167.429993  528.000000   \n",
       "2024-08-26 00:00:00+00:00  227.179993  175.500000  167.929993  521.119995   \n",
       "2024-08-27 00:00:00+00:00  228.029999  173.119995  166.380005  519.099976   \n",
       "2024-08-28 00:00:00+00:00  226.490005  170.800003  164.500000  516.780029   \n",
       "2024-08-29 00:00:00+00:00  229.789993  172.119995  163.399994  518.219971   \n",
       "\n",
       "Ticker                           MSFT        NFLX        NVDA  \n",
       "Date                                                           \n",
       "2024-08-23 00:00:00+00:00  416.790009  686.729980  129.369995  \n",
       "2024-08-26 00:00:00+00:00  413.489990  688.440002  126.459999  \n",
       "2024-08-27 00:00:00+00:00  413.839996  695.719971  128.300003  \n",
       "2024-08-28 00:00:00+00:00  410.600006  683.840027  125.610001  \n",
       "2024-08-29 00:00:00+00:00  413.119995  692.479980  117.589996  "
      ]
     },
     "execution_count": 12,
     "metadata": {},
     "output_type": "execute_result"
    }
   ],
   "source": [
    "FAANG_data_filtered.tail()"
   ]
  },
  {
   "cell_type": "code",
   "execution_count": 13,
   "id": "84e637c4",
   "metadata": {},
   "outputs": [
    {
     "data": {
      "text/html": [
       "<div>\n",
       "<style scoped>\n",
       "    .dataframe tbody tr th:only-of-type {\n",
       "        vertical-align: middle;\n",
       "    }\n",
       "\n",
       "    .dataframe tbody tr th {\n",
       "        vertical-align: top;\n",
       "    }\n",
       "\n",
       "    .dataframe thead th {\n",
       "        text-align: right;\n",
       "    }\n",
       "</style>\n",
       "<table border=\"1\" class=\"dataframe\">\n",
       "  <thead>\n",
       "    <tr style=\"text-align: right;\">\n",
       "      <th></th>\n",
       "      <th>Industry Type</th>\n",
       "      <th>Number of Employees</th>\n",
       "    </tr>\n",
       "  </thead>\n",
       "  <tbody>\n",
       "    <tr>\n",
       "      <th>Citadel</th>\n",
       "      <td>Hedge Fund</td>\n",
       "      <td>1400</td>\n",
       "    </tr>\n",
       "    <tr>\n",
       "      <th>Two Sigma</th>\n",
       "      <td>Hedge Fund</td>\n",
       "      <td>1600</td>\n",
       "    </tr>\n",
       "  </tbody>\n",
       "</table>\n",
       "</div>"
      ],
      "text/plain": [
       "          Industry Type  Number of Employees\n",
       "Citadel      Hedge Fund                 1400\n",
       "Two Sigma    Hedge Fund                 1600"
      ]
     },
     "execution_count": 13,
     "metadata": {},
     "output_type": "execute_result"
    }
   ],
   "source": [
    "comp_df[comp_df['Industry Type'].str.contains('Hedge')] #filtering with strings"
   ]
  },
  {
   "cell_type": "markdown",
   "id": "8788e70c",
   "metadata": {},
   "source": [
    "We can apply numpy mathematical functions to dataframes as well, which we will take a look:-"
   ]
  },
  {
   "cell_type": "code",
   "execution_count": 14,
   "id": "54a13285",
   "metadata": {},
   "outputs": [
    {
     "data": {
      "text/html": [
       "<div>\n",
       "<style scoped>\n",
       "    .dataframe tbody tr th:only-of-type {\n",
       "        vertical-align: middle;\n",
       "    }\n",
       "\n",
       "    .dataframe tbody tr th {\n",
       "        vertical-align: top;\n",
       "    }\n",
       "\n",
       "    .dataframe thead th {\n",
       "        text-align: right;\n",
       "    }\n",
       "</style>\n",
       "<table border=\"1\" class=\"dataframe\">\n",
       "  <thead>\n",
       "    <tr style=\"text-align: right;\">\n",
       "      <th>Ticker</th>\n",
       "      <th>AAPL</th>\n",
       "      <th>AMZN</th>\n",
       "      <th>GOOG</th>\n",
       "      <th>META</th>\n",
       "      <th>MSFT</th>\n",
       "      <th>NFLX</th>\n",
       "      <th>NVDA</th>\n",
       "    </tr>\n",
       "    <tr>\n",
       "      <th>Date</th>\n",
       "      <th></th>\n",
       "      <th></th>\n",
       "      <th></th>\n",
       "      <th></th>\n",
       "      <th></th>\n",
       "      <th></th>\n",
       "      <th></th>\n",
       "    </tr>\n",
       "  </thead>\n",
       "  <tbody>\n",
       "    <tr>\n",
       "      <th>2023-08-30 00:00:00+00:00</th>\n",
       "      <td>5.234578</td>\n",
       "      <td>4.905793</td>\n",
       "      <td>4.919470</td>\n",
       "      <td>5.687314</td>\n",
       "      <td>5.795419</td>\n",
       "      <td>6.074587</td>\n",
       "      <td>3.897194</td>\n",
       "    </tr>\n",
       "    <tr>\n",
       "      <th>2023-08-31 00:00:00+00:00</th>\n",
       "      <td>5.235750</td>\n",
       "      <td>4.927326</td>\n",
       "      <td>4.922532</td>\n",
       "      <td>5.689988</td>\n",
       "      <td>5.792282</td>\n",
       "      <td>6.072307</td>\n",
       "      <td>3.899039</td>\n",
       "    </tr>\n",
       "    <tr>\n",
       "      <th>2023-09-01 00:00:00+00:00</th>\n",
       "      <td>5.244178</td>\n",
       "      <td>4.928123</td>\n",
       "      <td>4.918520</td>\n",
       "      <td>5.691642</td>\n",
       "      <td>5.795024</td>\n",
       "      <td>6.086502</td>\n",
       "      <td>3.881749</td>\n",
       "    </tr>\n",
       "    <tr>\n",
       "      <th>2023-09-05 00:00:00+00:00</th>\n",
       "      <td>5.245444</td>\n",
       "      <td>4.921950</td>\n",
       "      <td>4.917862</td>\n",
       "      <td>5.704282</td>\n",
       "      <td>5.809793</td>\n",
       "      <td>6.106310</td>\n",
       "      <td>3.882553</td>\n",
       "    </tr>\n",
       "    <tr>\n",
       "      <th>2023-09-06 00:00:00+00:00</th>\n",
       "      <td>5.208994</td>\n",
       "      <td>4.907938</td>\n",
       "      <td>4.908012</td>\n",
       "      <td>5.701012</td>\n",
       "      <td>5.807782</td>\n",
       "      <td>6.099781</td>\n",
       "      <td>3.851445</td>\n",
       "    </tr>\n",
       "  </tbody>\n",
       "</table>\n",
       "</div>"
      ],
      "text/plain": [
       "Ticker                         AAPL      AMZN      GOOG      META      MSFT  \\\n",
       "Date                                                                          \n",
       "2023-08-30 00:00:00+00:00  5.234578  4.905793  4.919470  5.687314  5.795419   \n",
       "2023-08-31 00:00:00+00:00  5.235750  4.927326  4.922532  5.689988  5.792282   \n",
       "2023-09-01 00:00:00+00:00  5.244178  4.928123  4.918520  5.691642  5.795024   \n",
       "2023-09-05 00:00:00+00:00  5.245444  4.921950  4.917862  5.704282  5.809793   \n",
       "2023-09-06 00:00:00+00:00  5.208994  4.907938  4.908012  5.701012  5.807782   \n",
       "\n",
       "Ticker                         NFLX      NVDA  \n",
       "Date                                           \n",
       "2023-08-30 00:00:00+00:00  6.074587  3.897194  \n",
       "2023-08-31 00:00:00+00:00  6.072307  3.899039  \n",
       "2023-09-01 00:00:00+00:00  6.086502  3.881749  \n",
       "2023-09-05 00:00:00+00:00  6.106310  3.882553  \n",
       "2023-09-06 00:00:00+00:00  6.099781  3.851445  "
      ]
     },
     "execution_count": 14,
     "metadata": {},
     "output_type": "execute_result"
    }
   ],
   "source": [
    "FAANG_data_log = np.log(FAANG_data) #applying log transformation to each of the values\n",
    "FAANG_data_log.head()"
   ]
  },
  {
   "cell_type": "code",
   "execution_count": null,
   "id": "5d172ee5",
   "metadata": {},
   "outputs": [],
   "source": [
    "# TODO: Plot the log transformed data"
   ]
  },
  {
   "cell_type": "code",
   "execution_count": 15,
   "id": "ccbd732a",
   "metadata": {},
   "outputs": [],
   "source": [
    "FAANG_data_exp_NFLX = FAANG_data.copy()\n",
    "FAANG_data_exp_NFLX['NFLX'] = np.log(FAANG_data_exp_NFLX['NFLX']) #applying transformation on a single column\n",
    "# TODO: Display the head of this DataFrame"
   ]
  },
  {
   "cell_type": "markdown",
   "id": "c6d091c2",
   "metadata": {},
   "source": [
    "Often times, while doing data analysis...we would like to take a look at statistics of the numerical data such as its mean, median and if there are any null values in data. This is done by using describe function:-"
   ]
  },
  {
   "cell_type": "code",
   "execution_count": 16,
   "id": "5c8d2a16",
   "metadata": {},
   "outputs": [
    {
     "data": {
      "text/html": [
       "<div>\n",
       "<style scoped>\n",
       "    .dataframe tbody tr th:only-of-type {\n",
       "        vertical-align: middle;\n",
       "    }\n",
       "\n",
       "    .dataframe tbody tr th {\n",
       "        vertical-align: top;\n",
       "    }\n",
       "\n",
       "    .dataframe thead th {\n",
       "        text-align: right;\n",
       "    }\n",
       "</style>\n",
       "<table border=\"1\" class=\"dataframe\">\n",
       "  <thead>\n",
       "    <tr style=\"text-align: right;\">\n",
       "      <th>Ticker</th>\n",
       "      <th>AAPL</th>\n",
       "      <th>AMZN</th>\n",
       "      <th>GOOG</th>\n",
       "      <th>META</th>\n",
       "      <th>MSFT</th>\n",
       "      <th>NFLX</th>\n",
       "      <th>NVDA</th>\n",
       "    </tr>\n",
       "  </thead>\n",
       "  <tbody>\n",
       "    <tr>\n",
       "      <th>count</th>\n",
       "      <td>252.000000</td>\n",
       "      <td>252.000000</td>\n",
       "      <td>252.000000</td>\n",
       "      <td>252.000000</td>\n",
       "      <td>252.000000</td>\n",
       "      <td>252.000000</td>\n",
       "      <td>252.000000</td>\n",
       "    </tr>\n",
       "    <tr>\n",
       "      <th>mean</th>\n",
       "      <td>190.382421</td>\n",
       "      <td>164.167818</td>\n",
       "      <td>152.888611</td>\n",
       "      <td>423.130159</td>\n",
       "      <td>394.274762</td>\n",
       "      <td>549.449564</td>\n",
       "      <td>78.709786</td>\n",
       "    </tr>\n",
       "    <tr>\n",
       "      <th>std</th>\n",
       "      <td>18.216606</td>\n",
       "      <td>21.114980</td>\n",
       "      <td>17.981910</td>\n",
       "      <td>83.711059</td>\n",
       "      <td>38.911607</td>\n",
       "      <td>99.909588</td>\n",
       "      <td>30.438985</td>\n",
       "    </tr>\n",
       "    <tr>\n",
       "      <th>min</th>\n",
       "      <td>165.000000</td>\n",
       "      <td>119.570000</td>\n",
       "      <td>123.400002</td>\n",
       "      <td>288.350006</td>\n",
       "      <td>312.140015</td>\n",
       "      <td>346.190002</td>\n",
       "      <td>40.326000</td>\n",
       "    </tr>\n",
       "    <tr>\n",
       "      <th>25%</th>\n",
       "      <td>175.677505</td>\n",
       "      <td>146.039997</td>\n",
       "      <td>138.047501</td>\n",
       "      <td>333.065010</td>\n",
       "      <td>370.702507</td>\n",
       "      <td>465.867500</td>\n",
       "      <td>48.160999</td>\n",
       "    </tr>\n",
       "    <tr>\n",
       "      <th>50%</th>\n",
       "      <td>186.870003</td>\n",
       "      <td>170.889999</td>\n",
       "      <td>147.180000</td>\n",
       "      <td>466.304993</td>\n",
       "      <td>406.119995</td>\n",
       "      <td>576.769989</td>\n",
       "      <td>79.102001</td>\n",
       "    </tr>\n",
       "    <tr>\n",
       "      <th>75%</th>\n",
       "      <td>195.750004</td>\n",
       "      <td>181.387501</td>\n",
       "      <td>168.749996</td>\n",
       "      <td>496.115005</td>\n",
       "      <td>421.415001</td>\n",
       "      <td>630.604980</td>\n",
       "      <td>104.375000</td>\n",
       "    </tr>\n",
       "    <tr>\n",
       "      <th>max</th>\n",
       "      <td>234.820007</td>\n",
       "      <td>200.000000</td>\n",
       "      <td>192.660004</td>\n",
       "      <td>539.909973</td>\n",
       "      <td>467.559998</td>\n",
       "      <td>698.539978</td>\n",
       "      <td>135.580002</td>\n",
       "    </tr>\n",
       "  </tbody>\n",
       "</table>\n",
       "</div>"
      ],
      "text/plain": [
       "Ticker        AAPL        AMZN        GOOG        META        MSFT  \\\n",
       "count   252.000000  252.000000  252.000000  252.000000  252.000000   \n",
       "mean    190.382421  164.167818  152.888611  423.130159  394.274762   \n",
       "std      18.216606   21.114980   17.981910   83.711059   38.911607   \n",
       "min     165.000000  119.570000  123.400002  288.350006  312.140015   \n",
       "25%     175.677505  146.039997  138.047501  333.065010  370.702507   \n",
       "50%     186.870003  170.889999  147.180000  466.304993  406.119995   \n",
       "75%     195.750004  181.387501  168.749996  496.115005  421.415001   \n",
       "max     234.820007  200.000000  192.660004  539.909973  467.559998   \n",
       "\n",
       "Ticker        NFLX        NVDA  \n",
       "count   252.000000  252.000000  \n",
       "mean    549.449564   78.709786  \n",
       "std      99.909588   30.438985  \n",
       "min     346.190002   40.326000  \n",
       "25%     465.867500   48.160999  \n",
       "50%     576.769989   79.102001  \n",
       "75%     630.604980  104.375000  \n",
       "max     698.539978  135.580002  "
      ]
     },
     "execution_count": 16,
     "metadata": {},
     "output_type": "execute_result"
    }
   ],
   "source": [
    "FAANG_data.describe()"
   ]
  },
  {
   "cell_type": "code",
   "execution_count": 17,
   "id": "256ad3cd",
   "metadata": {},
   "outputs": [],
   "source": [
    "#renaming columns\n",
    "FAANG_data.columns = ['Apple','Amazon','Google','Meta','Microsoft', 'Netflix','NVIDIA']\n",
    "# TODO: Display the head of this DataFrame"
   ]
  },
  {
   "cell_type": "code",
   "execution_count": 19,
   "id": "92738970",
   "metadata": {},
   "outputs": [
    {
     "data": {
      "text/html": [
       "<div>\n",
       "<style scoped>\n",
       "    .dataframe tbody tr th:only-of-type {\n",
       "        vertical-align: middle;\n",
       "    }\n",
       "\n",
       "    .dataframe tbody tr th {\n",
       "        vertical-align: top;\n",
       "    }\n",
       "\n",
       "    .dataframe thead th {\n",
       "        text-align: right;\n",
       "    }\n",
       "</style>\n",
       "<table border=\"1\" class=\"dataframe\">\n",
       "  <thead>\n",
       "    <tr style=\"text-align: right;\">\n",
       "      <th></th>\n",
       "      <th>Apple</th>\n",
       "      <th>Amazon</th>\n",
       "      <th>Google</th>\n",
       "      <th>Meta</th>\n",
       "      <th>Microsoft</th>\n",
       "      <th>Netflix</th>\n",
       "      <th>NVIDIA</th>\n",
       "    </tr>\n",
       "    <tr>\n",
       "      <th>Date</th>\n",
       "      <th></th>\n",
       "      <th></th>\n",
       "      <th></th>\n",
       "      <th></th>\n",
       "      <th></th>\n",
       "      <th></th>\n",
       "      <th></th>\n",
       "    </tr>\n",
       "  </thead>\n",
       "  <tbody>\n",
       "    <tr>\n",
       "      <th>2023-08-30 00:00:00+00:00</th>\n",
       "      <td>True</td>\n",
       "      <td>True</td>\n",
       "      <td>True</td>\n",
       "      <td>True</td>\n",
       "      <td>True</td>\n",
       "      <td>True</td>\n",
       "      <td>False</td>\n",
       "    </tr>\n",
       "    <tr>\n",
       "      <th>2023-08-31 00:00:00+00:00</th>\n",
       "      <td>True</td>\n",
       "      <td>True</td>\n",
       "      <td>True</td>\n",
       "      <td>True</td>\n",
       "      <td>True</td>\n",
       "      <td>True</td>\n",
       "      <td>False</td>\n",
       "    </tr>\n",
       "    <tr>\n",
       "      <th>2023-09-01 00:00:00+00:00</th>\n",
       "      <td>True</td>\n",
       "      <td>True</td>\n",
       "      <td>True</td>\n",
       "      <td>True</td>\n",
       "      <td>True</td>\n",
       "      <td>True</td>\n",
       "      <td>False</td>\n",
       "    </tr>\n",
       "    <tr>\n",
       "      <th>2023-09-05 00:00:00+00:00</th>\n",
       "      <td>True</td>\n",
       "      <td>True</td>\n",
       "      <td>True</td>\n",
       "      <td>True</td>\n",
       "      <td>True</td>\n",
       "      <td>True</td>\n",
       "      <td>False</td>\n",
       "    </tr>\n",
       "    <tr>\n",
       "      <th>2023-09-06 00:00:00+00:00</th>\n",
       "      <td>True</td>\n",
       "      <td>True</td>\n",
       "      <td>True</td>\n",
       "      <td>True</td>\n",
       "      <td>True</td>\n",
       "      <td>True</td>\n",
       "      <td>False</td>\n",
       "    </tr>\n",
       "    <tr>\n",
       "      <th>...</th>\n",
       "      <td>...</td>\n",
       "      <td>...</td>\n",
       "      <td>...</td>\n",
       "      <td>...</td>\n",
       "      <td>...</td>\n",
       "      <td>...</td>\n",
       "      <td>...</td>\n",
       "    </tr>\n",
       "    <tr>\n",
       "      <th>2024-08-23 00:00:00+00:00</th>\n",
       "      <td>True</td>\n",
       "      <td>True</td>\n",
       "      <td>True</td>\n",
       "      <td>True</td>\n",
       "      <td>True</td>\n",
       "      <td>True</td>\n",
       "      <td>True</td>\n",
       "    </tr>\n",
       "    <tr>\n",
       "      <th>2024-08-26 00:00:00+00:00</th>\n",
       "      <td>True</td>\n",
       "      <td>True</td>\n",
       "      <td>True</td>\n",
       "      <td>True</td>\n",
       "      <td>True</td>\n",
       "      <td>True</td>\n",
       "      <td>True</td>\n",
       "    </tr>\n",
       "    <tr>\n",
       "      <th>2024-08-27 00:00:00+00:00</th>\n",
       "      <td>True</td>\n",
       "      <td>True</td>\n",
       "      <td>True</td>\n",
       "      <td>True</td>\n",
       "      <td>True</td>\n",
       "      <td>True</td>\n",
       "      <td>True</td>\n",
       "    </tr>\n",
       "    <tr>\n",
       "      <th>2024-08-28 00:00:00+00:00</th>\n",
       "      <td>True</td>\n",
       "      <td>True</td>\n",
       "      <td>True</td>\n",
       "      <td>True</td>\n",
       "      <td>True</td>\n",
       "      <td>True</td>\n",
       "      <td>True</td>\n",
       "    </tr>\n",
       "    <tr>\n",
       "      <th>2024-08-29 00:00:00+00:00</th>\n",
       "      <td>True</td>\n",
       "      <td>True</td>\n",
       "      <td>True</td>\n",
       "      <td>True</td>\n",
       "      <td>True</td>\n",
       "      <td>True</td>\n",
       "      <td>False</td>\n",
       "    </tr>\n",
       "  </tbody>\n",
       "</table>\n",
       "<p>252 rows × 7 columns</p>\n",
       "</div>"
      ],
      "text/plain": [
       "                           Apple  Amazon  Google  Meta  Microsoft  Netflix  \\\n",
       "Date                                                                         \n",
       "2023-08-30 00:00:00+00:00   True    True    True  True       True     True   \n",
       "2023-08-31 00:00:00+00:00   True    True    True  True       True     True   \n",
       "2023-09-01 00:00:00+00:00   True    True    True  True       True     True   \n",
       "2023-09-05 00:00:00+00:00   True    True    True  True       True     True   \n",
       "2023-09-06 00:00:00+00:00   True    True    True  True       True     True   \n",
       "...                          ...     ...     ...   ...        ...      ...   \n",
       "2024-08-23 00:00:00+00:00   True    True    True  True       True     True   \n",
       "2024-08-26 00:00:00+00:00   True    True    True  True       True     True   \n",
       "2024-08-27 00:00:00+00:00   True    True    True  True       True     True   \n",
       "2024-08-28 00:00:00+00:00   True    True    True  True       True     True   \n",
       "2024-08-29 00:00:00+00:00   True    True    True  True       True     True   \n",
       "\n",
       "                           NVIDIA  \n",
       "Date                               \n",
       "2023-08-30 00:00:00+00:00   False  \n",
       "2023-08-31 00:00:00+00:00   False  \n",
       "2023-09-01 00:00:00+00:00   False  \n",
       "2023-09-05 00:00:00+00:00   False  \n",
       "2023-09-06 00:00:00+00:00   False  \n",
       "...                           ...  \n",
       "2024-08-23 00:00:00+00:00    True  \n",
       "2024-08-26 00:00:00+00:00    True  \n",
       "2024-08-27 00:00:00+00:00    True  \n",
       "2024-08-28 00:00:00+00:00    True  \n",
       "2024-08-29 00:00:00+00:00   False  \n",
       "\n",
       "[252 rows x 7 columns]"
      ]
     },
     "execution_count": 19,
     "metadata": {},
     "output_type": "execute_result"
    }
   ],
   "source": [
    "FAANG_data > 120 #how filtering works essentially"
   ]
  },
  {
   "cell_type": "markdown",
   "id": "8e2d7a8d",
   "metadata": {},
   "source": [
    "We can often use multiple filter operations followed by selections in a single command to performm our task, it becomes very convenient. Lets see an example:-"
   ]
  },
  {
   "cell_type": "code",
   "execution_count": null,
   "id": "e867976d",
   "metadata": {},
   "outputs": [],
   "source": [
    "FAANG_data[FAANG_data.index<pd.to_datetime('2023-09-12', utc = True)][['Apple','Google']].tail()\n",
    "# Question: Why are we setting utc = True?"
   ]
  },
  {
   "cell_type": "markdown",
   "id": "21993841",
   "metadata": {},
   "source": [
    "We can use apply function to perform operations on rows. Its a pythonic way of doing it, instead of writing loops. Lets see a couple of examples:-"
   ]
  },
  {
   "cell_type": "code",
   "execution_count": 100,
   "id": "974ee2cf",
   "metadata": {},
   "outputs": [],
   "source": [
    "def high_price(x,y):\n",
    "    if (x+y)//2>160:\n",
    "        return 'Yes'\n",
    "    else:\n",
    "        return 'No'"
   ]
  },
  {
   "cell_type": "code",
   "execution_count": null,
   "id": "316aeb93",
   "metadata": {},
   "outputs": [],
   "source": [
    "FAANG_data.head()"
   ]
  },
  {
   "cell_type": "code",
   "execution_count": null,
   "id": "2db3fb53",
   "metadata": {},
   "outputs": [],
   "source": [
    "FAANG_data['High Stock Price'] = FAANG_data.apply(lambda x: high_price(x['Google'],x['Amazon']), axis = 1)\n",
    "FAANG_data.head()"
   ]
  },
  {
   "cell_type": "code",
   "execution_count": null,
   "id": "7798619e",
   "metadata": {},
   "outputs": [],
   "source": [
    "FAANG_data[FAANG_data['High Stock Price'] == 'Yes'].head()"
   ]
  },
  {
   "cell_type": "markdown",
   "id": "b29984b9",
   "metadata": {},
   "source": [
    "### Missing Data and GroupBy"
   ]
  },
  {
   "cell_type": "code",
   "execution_count": null,
   "id": "5b04bd4f",
   "metadata": {},
   "outputs": [],
   "source": [
    "#just an example\n",
    "FAANG_data['Linkedin'] = np.random.choice([240,239,241,np.nan], size = len(FAANG_data))\n",
    "FAANG_data['Lyft'] = np.random.choice([300,296,298,np.nan], size = len(FAANG_data))\n",
    "FAANG_data.head()"
   ]
  },
  {
   "cell_type": "code",
   "execution_count": null,
   "id": "bc85c352",
   "metadata": {},
   "outputs": [],
   "source": [
    "#dropping null values\n",
    "FAANG_data.dropna().head()"
   ]
  },
  {
   "cell_type": "code",
   "execution_count": null,
   "id": "cf1d219a",
   "metadata": {},
   "outputs": [],
   "source": [
    "#imputing null values with mean and median\n",
    "FAANG_data['Linkedin'] = FAANG_data['Linkedin'].fillna(value = FAANG_data['Linkedin'].mean())\n",
    "FAANG_data['Lyft'] = FAANG_data['Lyft'].fillna(value = FAANG_data['Lyft'].median())\n",
    "FAANG_data.head()"
   ]
  },
  {
   "cell_type": "markdown",
   "id": "e91d7fee",
   "metadata": {},
   "source": [
    "Let us take a look at the **group by** operation. Groupby allows us to group together rows based off a column and perform an aggregate function on them( count, max, mean etc)"
   ]
  },
  {
   "cell_type": "code",
   "execution_count": null,
   "id": "ae50c01b",
   "metadata": {},
   "outputs": [],
   "source": [
    "comp_df.groupby('Industry Type').mean() #average number of employees in each industry type"
   ]
  },
  {
   "cell_type": "code",
   "execution_count": null,
   "id": "ff54139b",
   "metadata": {},
   "outputs": [],
   "source": [
    "comp_df.groupby('Industry Type').sum() #sum of employees in each industry type"
   ]
  },
  {
   "cell_type": "code",
   "execution_count": null,
   "id": "0b2d315a",
   "metadata": {},
   "outputs": [],
   "source": [
    "comp_df['Industry Type'].value_counts() #This operation is really helpful to know if there are any duplicate entries or count of each entry"
   ]
  },
  {
   "cell_type": "markdown",
   "id": "43f16461",
   "metadata": {},
   "source": [
    "Now, let us apply the **groupby** operation on FAANG_data, which we downloaded from yahoo finance, to calculate average monthly return on stock price of FAANG companies."
   ]
  },
  {
   "cell_type": "code",
   "execution_count": 110,
   "id": "3c914346",
   "metadata": {},
   "outputs": [],
   "source": [
    "FAANG_data['Avg FAANG Stock Price'] = FAANG_data.iloc[:,0:7].mean(axis = 1) #calculating avg stock price in a column"
   ]
  },
  {
   "cell_type": "code",
   "execution_count": null,
   "id": "cca92a83",
   "metadata": {},
   "outputs": [],
   "source": [
    "FAANG_data.head()"
   ]
  },
  {
   "cell_type": "code",
   "execution_count": null,
   "id": "4ffa5dd1",
   "metadata": {},
   "outputs": [],
   "source": [
    "Avg_FAANG_stockprice_data = FAANG_data[['Avg FAANG Stock Price']] #selecting columns in dataframe\n",
    "Avg_FAANG_stockprice_data.reset_index(inplace = True) #resetting index so that we can calculate monthly returns\n",
    "Avg_FAANG_stockprice_data['Mdate'] = Avg_FAANG_stockprice_data['Date'].dt.to_period('M')\n",
    "Avg_FAANG_stockprice_data.head()"
   ]
  },
  {
   "cell_type": "markdown",
   "id": "f356ce9c",
   "metadata": {},
   "source": [
    "## Finance Examples"
   ]
  },
  {
   "cell_type": "markdown",
   "id": "0c05beac",
   "metadata": {},
   "source": [
    "### Monthly Returns"
   ]
  },
  {
   "cell_type": "markdown",
   "id": "51d0a1a5",
   "metadata": {},
   "source": [
    "Let us understand how to calculate monthly returns from daily returns of a stock, as it will help us later\n",
    "\n",
    "Let $P_{0}$ be the initial stock price, and after a month the stock price becomes $P_{1}$, and $r_{0}$ be the monthly percentage return:-\n",
    "\n",
    "\\begin{equation}\n",
    "P_{1} = P_{0}(1+r_{0})\n",
    "\\end{equation}\n",
    "\n",
    "Let $r_1$, $r_2$, $\\ldots$, $r_{30}$ be the the daily returns of the stock in a month. Then we can write:-\n",
    "    \n",
    "\\begin{equation}\n",
    "P_{1} = P_{0}(1+r_{1})(1+r_{2})\\ldots(1+r_{30})\n",
    "\\end{equation}\n",
    "\n",
    "From both the above equations we can say that:-\n",
    "    \n",
    "$1+r_{0} = (1+r_{1})(1+r_{2})\\ldots(1+r_{30})$ <br>\n",
    "$r_{0} = (1+r_{1})(1+r_{2})\\ldots(1+r_{30}) - 1$\n",
    "\n",
    "Therefore, to calculate monthly return we will calculate daily return first:-\n",
    "\n"
   ]
  },
  {
   "cell_type": "code",
   "execution_count": null,
   "id": "b8bf39c1",
   "metadata": {},
   "outputs": [],
   "source": [
    "Avg_FAANG_stockprice_data['daily_return'] = Avg_FAANG_stockprice_data['Avg FAANG Stock Price'].pct_change()\n",
    "Avg_FAANG_stockprice_data['daily_return_adjusted'] = 1 + Avg_FAANG_stockprice_data['daily_return']\n",
    "Avg_FAANG_stockprice_data.head()"
   ]
  },
  {
   "cell_type": "markdown",
   "id": "0e2ddb29",
   "metadata": {},
   "source": [
    "Now we have to calculate monthly returns. It is evident that we will have to **groupby** using monthly date:-"
   ]
  },
  {
   "cell_type": "code",
   "execution_count": null,
   "id": "a25b7795",
   "metadata": {},
   "outputs": [],
   "source": [
    "# TODO: Use the formula above to add a column for monthly returns using daily_return_adjusted"
   ]
  },
  {
   "cell_type": "code",
   "execution_count": null,
   "id": "8222286b",
   "metadata": {},
   "outputs": [],
   "source": [
    "Avg_FAANG_stockprice_data[['Mdate','Monthly Return']].drop_duplicates().head() #dropping duplicates to see returns for each monthy"
   ]
  },
  {
   "cell_type": "markdown",
   "id": "d4d25fae",
   "metadata": {},
   "source": [
    "### The rolling() method and the MACD Trading Strategy"
   ]
  },
  {
   "cell_type": "code",
   "execution_count": 116,
   "id": "9d52ac3e",
   "metadata": {},
   "outputs": [],
   "source": [
    "import matplotlib.pyplot as plt\n",
    "# %matplotlib notebook"
   ]
  },
  {
   "cell_type": "markdown",
   "id": "8f42f9bf",
   "metadata": {},
   "source": [
    "Let us take a look at Apple stock price data:-"
   ]
  },
  {
   "cell_type": "code",
   "execution_count": null,
   "id": "7fda254e",
   "metadata": {},
   "outputs": [],
   "source": [
    "Apple_data = FAANG_data[['Apple']]\n",
    "Apple_data.head()"
   ]
  },
  {
   "cell_type": "markdown",
   "id": "afc51479",
   "metadata": {},
   "source": [
    " **Rolling** function provides the feature of rolling window calculations. We take a window of a desired size, and perform some mathematical operations on it. A common example is moving average which is often used in trading and time series forecasting"
   ]
  },
  {
   "cell_type": "code",
   "execution_count": null,
   "id": "096f253d",
   "metadata": {},
   "outputs": [],
   "source": [
    "Apple_data.rolling(3).mean()"
   ]
  },
  {
   "cell_type": "code",
   "execution_count": null,
   "id": "d5f1cc25",
   "metadata": {},
   "outputs": [],
   "source": [
    "plt.figure(figsize = (12,4))\n",
    "plt.plot(Apple_data)\n",
    "plt.xticks(rotation = 45)\n",
    "plt.title('Apple - Stock Price')\n",
    "plt.xlabel('Date')\n",
    "plt.ylabel('Price(in USD)')\n",
    "plt.show()"
   ]
  },
  {
   "cell_type": "markdown",
   "id": "5b40a080",
   "metadata": {},
   "source": [
    "**MACD** stands for Moving Average convergence/Divergence. It is a momentum indicator, that is it tells the general direction of stock in short to medium term.\n",
    "\n",
    "A few principles of MACD trading strategy:-\n",
    "\n",
    "We will calculate some exponential moving averages with window size 12 and 26. \n",
    "\n",
    "MACD line gives us the short to medium term trend of the price action(whether stock is going up, down, sideways)\n",
    "\n",
    "Signal line is 9 month exponential moving average of MACD line, so its just smoothened version of MACD line. "
   ]
  },
  {
   "cell_type": "code",
   "execution_count": 120,
   "id": "d7a46a17",
   "metadata": {},
   "outputs": [],
   "source": [
    "#Calculate short term exponential moving average\n",
    "ShortEMA = Apple_data.ewm(span = 12, adjust = False).mean()\n",
    "\n",
    "#Calculate long term exponential moving average\n",
    "LongEMA = Apple_data.ewm(span = 26, adjust = False).mean()\n",
    "\n",
    "#MACD line\n",
    "# TODO: Define a new column in Apple_data called 'MACD' which is the difference between ShortEMA and LongEMA\n",
    "\n",
    "#Signal Line\n",
    "# TODO: Define a new column in Apple_data called 'Signal' which is the exponential moving average of MACD with a span of 9"
   ]
  },
  {
   "cell_type": "code",
   "execution_count": null,
   "id": "d9cd49a8",
   "metadata": {},
   "outputs": [],
   "source": [
    "plt.figure(figsize = (10,4))\n",
    "plt.plot(Apple_data.index,MACD,label = 'Apple MACD',color = 'red', linewidth = 2)\n",
    "plt.plot(Apple_data.index,signal,label = 'Signal Line', color = 'blue', linewidth = 2)\n",
    "plt.xticks(rotation = 45)\n",
    "plt.legend()\n",
    "plt.margins(x=0, y=0.01)\n",
    "plt.show()"
   ]
  },
  {
   "cell_type": "markdown",
   "id": "2cfda1ee",
   "metadata": {},
   "source": [
    "**MACD** trading strategy can be used as a buy or sell signal:-\n",
    "\n",
    "**Buy** when **MACD line** crosses above the **Signal Line** <br>\n",
    "**Sell** when **MACD line** crosses below the **Signal Line**\n"
   ]
  },
  {
   "cell_type": "markdown",
   "id": "362b78b3",
   "metadata": {},
   "source": [
    "**Pandas is the bread and butter of data analysis when it comes to tabular data. Play with it functionalities on your own to get a hang of it. We will be using operations like filter, null value imputation a lot in data cleaning**\n"
   ]
  },
  {
   "cell_type": "markdown",
   "id": "8c0c3519",
   "metadata": {},
   "source": []
  },
  {
   "cell_type": "markdown",
   "id": "933aa3a5",
   "metadata": {},
   "source": []
  }
 ],
 "metadata": {
  "kernelspec": {
   "display_name": "Python 3 (ipykernel)",
   "language": "python",
   "name": "python3"
  },
  "language_info": {
   "codemirror_mode": {
    "name": "ipython",
    "version": 3
   },
   "file_extension": ".py",
   "mimetype": "text/x-python",
   "name": "python",
   "nbconvert_exporter": "python",
   "pygments_lexer": "ipython3",
   "version": "3.11.9"
  }
 },
 "nbformat": 4,
 "nbformat_minor": 5
}
