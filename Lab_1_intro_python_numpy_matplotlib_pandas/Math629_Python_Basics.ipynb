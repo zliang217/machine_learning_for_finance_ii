{
 "cells": [
  {
   "cell_type": "markdown",
   "id": "77d2d395",
   "metadata": {},
   "source": [
    "We would be using Jupyter Notebook for most of our work. It is a nice user friendly tool to perform exploratory data analysis and run ML models. In this session, we will get started with basics of python and then move on to some libraries which we use in data analysis."
   ]
  },
  {
   "cell_type": "markdown",
   "id": "2179b62a",
   "metadata": {},
   "source": [
    "# Python Fundamentals"
   ]
  },
  {
   "cell_type": "markdown",
   "id": "0b86c19a",
   "metadata": {},
   "source": [
    "Python is a great general-purpose programming language on its own, but with the help of many popular libraries (numpy, scipy) it becomes a powerful environment for scientific computing. Python is the dominant programming language for Machine Learning and Data Science."
   ]
  },
  {
   "cell_type": "markdown",
   "id": "a57672ff",
   "metadata": {},
   "source": [
    "The notebook is divided into cells. If I define a variable in one cell, then its value will still be accessible in another cell. We can divide a notebook into subsections and subsections using markdown headings. These are annotated by a number of '#' symbols at the beginning of a markdown cell. This section has 4 subsections:\n",
    "1. Basics\n",
    "2. Booleans\n",
    "3. Functions and Conditionals\n",
    "4. Iteration and Loops "
   ]
  },
  {
   "cell_type": "markdown",
   "id": "80187da3",
   "metadata": {},
   "source": [
    "### Basics"
   ]
  },
  {
   "cell_type": "code",
   "execution_count": 4,
   "id": "88de72a8",
   "metadata": {},
   "outputs": [],
   "source": [
    "# We define variables using =, and we can use them in expressions. Example:\n",
    "a = 2"
   ]
  },
  {
   "cell_type": "code",
   "execution_count": 3,
   "id": "b1c53fa1",
   "metadata": {},
   "outputs": [],
   "source": [
    "# TODO 1: Create a variable called `name` and set it to your name as a string. Strings are enclosed in single or double quotes.\n",
    "# TODO 2: Create a variable called `university_name` and set it to your university name as a string.\n",
    "# TODO 3: Create a variable called `num` and set it to 5 as an int."
   ]
  },
  {
   "cell_type": "code",
   "execution_count": null,
   "id": "641a24d7",
   "metadata": {},
   "outputs": [],
   "source": [
    "print('My name is', name)\n",
    "print('I study in', university_name)\n",
    "print(num)"
   ]
  },
  {
   "cell_type": "markdown",
   "id": "e635c251",
   "metadata": {},
   "source": [
    "In python, we can assign any type of data to any variable without declaring its type first, which is an interesting feature as it makes it syntax friendly.\n",
    "\n",
    "You can use type command to know the type of each variable"
   ]
  },
  {
   "cell_type": "code",
   "execution_count": null,
   "id": "fd178c7c",
   "metadata": {
    "scrolled": true
   },
   "outputs": [],
   "source": [
    "print(type(university_name))\n",
    "print(type(num))"
   ]
  },
  {
   "cell_type": "markdown",
   "id": "073ebc37",
   "metadata": {},
   "source": [
    "### Booleans"
   ]
  },
  {
   "cell_type": "markdown",
   "id": "f15894b3",
   "metadata": {},
   "source": [
    "Python implements all of the usual operators for Boolean logic, but uses English words (`and`, `or`, `not`) rather than symbols (`&&`, `||`, `!`, etc.):"
   ]
  },
  {
   "cell_type": "code",
   "execution_count": null,
   "id": "971fca5c",
   "metadata": {},
   "outputs": [],
   "source": [
    "t, f = True, False\n",
    "print(type(t)) # Prints \"<type 'bool'>\""
   ]
  },
  {
   "cell_type": "code",
   "execution_count": null,
   "id": "09fcfae0",
   "metadata": {},
   "outputs": [],
   "source": [
    "print(t and f) # Logical AND;\n",
    "print(t or f)  # Logical OR;\n",
    "print(not t)   # Logical NOT;\n",
    "print(t != f)  # Logical XOR;\n",
    "\n",
    "# NOTE: Don't use the bitwise operators &, ^, |, ~, <<, >> with boolean values unless you know what they do. They are different from the standard logical operators."
   ]
  },
  {
   "cell_type": "markdown",
   "id": "c123e87e",
   "metadata": {},
   "source": [
    "### Functions and Conditionals"
   ]
  },
  {
   "cell_type": "markdown",
   "id": "08490521",
   "metadata": {},
   "source": [
    "Functions allow us to carry tasks based on input provided. They are particulary useful when we have to perform one action multiple times on various inputs\n"
   ]
  },
  {
   "cell_type": "code",
   "execution_count": 5,
   "id": "028445c6",
   "metadata": {},
   "outputs": [],
   "source": [
    "# BONUS: Can you find a way to shorten this function?\n",
    "def is_even(num):\n",
    "    if num%2 == 1:\n",
    "        return False\n",
    "    \n",
    "    return True"
   ]
  },
  {
   "cell_type": "code",
   "execution_count": 9,
   "id": "0e52daa6",
   "metadata": {},
   "outputs": [],
   "source": [
    "# BONUS: How can we make this function more efficient?\n",
    "def is_prime(num):\n",
    "    if num == 1:\n",
    "        return False\n",
    "    \n",
    "    for i in range(2,num):\n",
    "        if num%i == 0:\n",
    "            return False\n",
    "    \n",
    "    return True"
   ]
  },
  {
   "cell_type": "code",
   "execution_count": null,
   "id": "92184de9",
   "metadata": {},
   "outputs": [],
   "source": [
    "is_prime(5)"
   ]
  },
  {
   "cell_type": "markdown",
   "id": "8113e88d",
   "metadata": {},
   "source": [
    "Functions are defined using **def** keyword, which is followed by function name( **is_even** ). We then enclose the function input in paranthesis, and put **:** sign, which indicates that we can write the body of the function\n",
    "\n",
    "If-else are conditional statements which evaluate our statement. Return statement is used to return the output of the function. Lets test this on a few examples"
   ]
  },
  {
   "cell_type": "code",
   "execution_count": null,
   "id": "507f1ae1",
   "metadata": {
    "scrolled": true
   },
   "outputs": [],
   "source": [
    "print(is_even(5))\n",
    "print(is_even(6))"
   ]
  },
  {
   "cell_type": "code",
   "execution_count": 1,
   "id": "c055f86c",
   "metadata": {},
   "outputs": [],
   "source": [
    "## TODO: Write a function to compute factorial of a number n:-"
   ]
  },
  {
   "cell_type": "markdown",
   "id": "dea6969c",
   "metadata": {},
   "source": [
    "### Iteration and Loops"
   ]
  },
  {
   "cell_type": "markdown",
   "id": "8b8f3dac",
   "metadata": {},
   "source": [
    "In programming, we often use loops to perform repetitive tasks by iterating over many instances of the task. \n",
    "\n",
    "We use primarily two types of loops:- **for** and **while**.\n",
    "\n",
    "We will see how to do cube of numbers from 1 to 5 using both for and while loops"
   ]
  },
  {
   "cell_type": "code",
   "execution_count": null,
   "id": "7ea5ba29",
   "metadata": {
    "scrolled": true
   },
   "outputs": [],
   "source": [
    "for num in range(1,6):  #range is used to define a number interval which in this case is [1,2,3,4,5]\n",
    "    print(num**3)"
   ]
  },
  {
   "cell_type": "code",
   "execution_count": null,
   "id": "0b984641",
   "metadata": {
    "scrolled": true
   },
   "outputs": [],
   "source": [
    "number = 1\n",
    "while number<6:       #While loop will keep executing as long as the condition after the while is True\n",
    "    print(number**3)\n",
    "    number += 1"
   ]
  },
  {
   "cell_type": "markdown",
   "id": "db631613",
   "metadata": {},
   "source": [
    "We can use the concepts learnt use far to perform complex tasks using the collective knowledge of functions and loops. \n",
    "\n",
    "Lets take a problem in which we have to print recurring sum of numbers from 1 to 10, only if its even"
   ]
  },
  {
   "cell_type": "code",
   "execution_count": null,
   "id": "94e4c736",
   "metadata": {
    "scrolled": true
   },
   "outputs": [],
   "source": [
    "recur_sum = 0\n",
    "\n",
    "for num in range(1,11):\n",
    "    recur_sum += num\n",
    "    if is_even(recur_sum):\n",
    "        print(recur_sum)"
   ]
  },
  {
   "cell_type": "markdown",
   "id": "0bf4e677",
   "metadata": {},
   "source": [
    "The recurrence relation for fibonacci sequence is defined as:-\n",
    "\n",
    "$F_1 = 1$ <br>\n",
    "$F_2 = 1$ <br>\n",
    "$F_n = F_{n-1} + F_{n-2}$"
   ]
  },
  {
   "cell_type": "code",
   "execution_count": 4,
   "id": "ae399fd5",
   "metadata": {},
   "outputs": [],
   "source": [
    "## TODO: Write a function to compute nth fibonacci number, given n as input"
   ]
  },
  {
   "cell_type": "markdown",
   "id": "b6950418",
   "metadata": {},
   "source": [
    "# Python Data Structures"
   ]
  },
  {
   "cell_type": "markdown",
   "id": "6ca98c6a",
   "metadata": {},
   "source": [
    "We will get familiar with the following common data structures:\n",
    "1. Lists\n",
    "2. Tuples\n",
    "3. Dictionaries"
   ]
  },
  {
   "cell_type": "markdown",
   "id": "443f8a55",
   "metadata": {},
   "source": [
    "### Lists"
   ]
  },
  {
   "cell_type": "markdown",
   "id": "872c4130",
   "metadata": {},
   "source": [
    "Lists are similar to arrays in many other programming languages. A list is a collection of items and specifically in python, it can contain mixed data types as well.\n",
    "\n",
    "We will be looking at some of the operations which we can perform on a list."
   ]
  },
  {
   "cell_type": "code",
   "execution_count": null,
   "id": "f7fa59e3",
   "metadata": {},
   "outputs": [],
   "source": [
    "my_list = ['onion', 'pepper', 26, 5.4]\n",
    "my_list.append('potato') # this will append an item to end of the list\n",
    "my_list"
   ]
  },
  {
   "cell_type": "code",
   "execution_count": null,
   "id": "a92dc77b",
   "metadata": {},
   "outputs": [],
   "source": [
    "print(my_list[:2]) #slicing\n",
    "print(my_list[-2:])"
   ]
  },
  {
   "cell_type": "code",
   "execution_count": 16,
   "id": "c128fbd8",
   "metadata": {},
   "outputs": [],
   "source": [
    "## TODO: slice the list from 2nd element to the 3rd element, both included\n",
    "## TODO: slice the list from 2nd element to the last element, both included"
   ]
  },
  {
   "cell_type": "markdown",
   "id": "683df8dc",
   "metadata": {},
   "source": [
    "If you want access to the index of each element within the body of a loop, use the built-in `enumerate` function:"
   ]
  },
  {
   "cell_type": "code",
   "execution_count": null,
   "id": "7da7d109",
   "metadata": {},
   "outputs": [],
   "source": [
    "animals = ['cat', 'dog', 'monkey']\n",
    "for idx, animal in enumerate(animals):\n",
    "    print (idx + 1, animal)"
   ]
  },
  {
   "cell_type": "markdown",
   "id": "61e738b1",
   "metadata": {},
   "source": [
    "`zip()` makes an iterator that aggregates elements from each of the iterables."
   ]
  },
  {
   "cell_type": "code",
   "execution_count": null,
   "id": "f6c58f03",
   "metadata": {},
   "outputs": [],
   "source": [
    "x = [1, 2, 3, 4]\n",
    "y = [5, 6, 7, 8]\n",
    "z = [9, 10, 11, 12]\n",
    "\n",
    "for i, j, k in zip(x, y, z):\n",
    "    print(i, j, k)"
   ]
  },
  {
   "cell_type": "code",
   "execution_count": null,
   "id": "3e673ad3",
   "metadata": {},
   "outputs": [],
   "source": [
    "del(my_list[-1]) #deletion\n",
    "my_list"
   ]
  },
  {
   "cell_type": "code",
   "execution_count": null,
   "id": "1b269b13",
   "metadata": {},
   "outputs": [],
   "source": [
    "my_list[1] = 'chillies'\n",
    "my_list"
   ]
  },
  {
   "cell_type": "code",
   "execution_count": null,
   "id": "1972cd08",
   "metadata": {},
   "outputs": [],
   "source": [
    "[x for x in range(1,11) if x%2 == 0] #using list comprehension to print even numbers"
   ]
  },
  {
   "cell_type": "code",
   "execution_count": 29,
   "id": "4344a10e",
   "metadata": {},
   "outputs": [],
   "source": [
    "## TODO: Print square of the odd numbers between 1 and 10 using list comprehension"
   ]
  },
  {
   "cell_type": "markdown",
   "id": "84a93caf",
   "metadata": {},
   "source": [
    "### Tuples"
   ]
  },
  {
   "cell_type": "markdown",
   "id": "8cadfa30",
   "metadata": {},
   "source": [
    "Tuples are very similar to lists, except a major difference - a tuple is immutable. Lets see some examples:-"
   ]
  },
  {
   "cell_type": "code",
   "execution_count": null,
   "id": "07833f95",
   "metadata": {},
   "outputs": [],
   "source": [
    "blah = ('woohoo', 'yay', 'yikes')\n",
    "# TODO: Make a tuple called `my_tuple` with your first name, last name and your field of study.\n",
    "\n",
    "my_tuple"
   ]
  },
  {
   "cell_type": "code",
   "execution_count": null,
   "id": "7afb33e4",
   "metadata": {},
   "outputs": [],
   "source": [
    "my_tuple[2] # accesing the value"
   ]
  },
  {
   "cell_type": "code",
   "execution_count": null,
   "id": "47d79d62",
   "metadata": {},
   "outputs": [],
   "source": [
    "my_tuple[-1]"
   ]
  },
  {
   "cell_type": "code",
   "execution_count": null,
   "id": "f6e17928",
   "metadata": {},
   "outputs": [],
   "source": [
    "#expect error since tuples are immutable\n",
    "\n",
    "my_tuple[2] = 25\n",
    "my_tuple"
   ]
  },
  {
   "cell_type": "markdown",
   "id": "a6a9e1bf",
   "metadata": {},
   "source": [
    "There is an interesting concept of tuple unpacking. When a function returns multiple outputs, it returns it as a tuple. Lets take an example:-\n",
    "    "
   ]
  },
  {
   "cell_type": "code",
   "execution_count": null,
   "id": "f89761b5",
   "metadata": {},
   "outputs": [],
   "source": [
    "first_name, last_name, program = my_tuple\n",
    "print(first_name)\n",
    "print(last_name)\n",
    "print(program)"
   ]
  },
  {
   "cell_type": "code",
   "execution_count": null,
   "id": "b06cd985",
   "metadata": {
    "scrolled": true
   },
   "outputs": [],
   "source": [
    "def square_and_cube(num):\n",
    "    return num**2, num**3\n",
    "\n",
    "num_square, num_cube = square_and_cube(5)\n",
    "\n",
    "print(num_square)\n",
    "print(num_cube)"
   ]
  },
  {
   "cell_type": "markdown",
   "id": "32da2b6f",
   "metadata": {},
   "source": [
    "### Sets"
   ]
  },
  {
   "cell_type": "markdown",
   "id": "7977a21b",
   "metadata": {},
   "source": [
    "A set is a pythonic data structure which is similar to list except that its unordered. You cannot index or slice a set. Lets take a few examples:-\n"
   ]
  },
  {
   "cell_type": "code",
   "execution_count": null,
   "id": "1e44c5e5",
   "metadata": {},
   "outputs": [],
   "source": [
    "my_set = {'Quant', 'Finance', 'Machine Learning'} \n",
    "my_set "
   ]
  },
  {
   "cell_type": "markdown",
   "id": "7d547560",
   "metadata": {},
   "source": [
    "we can see the order in which set was declared above is different from printed order"
   ]
  },
  {
   "cell_type": "code",
   "execution_count": null,
   "id": "26bdcda5",
   "metadata": {},
   "outputs": [],
   "source": [
    "my_set.add('Masters') #adding an element\n",
    "my_set"
   ]
  },
  {
   "cell_type": "code",
   "execution_count": null,
   "id": "e853000b",
   "metadata": {},
   "outputs": [],
   "source": [
    "my_set.update({'Umich', 'GoBlue'})\n",
    "my_set"
   ]
  },
  {
   "cell_type": "markdown",
   "id": "6df61735",
   "metadata": {},
   "source": [
    "Unordered feature of set gives us access to save memory while storing elements. This can enable us to make data retrival much easier later on\n",
    "\n",
    "Searching for data is very easy in set, since it uses hashing to store the elements, hence the elements must be unique"
   ]
  },
  {
   "cell_type": "code",
   "execution_count": null,
   "id": "500b136d",
   "metadata": {},
   "outputs": [],
   "source": [
    "set([1,1,2,2,3]) # removing duplicates with set "
   ]
  },
  {
   "cell_type": "code",
   "execution_count": null,
   "id": "e4297548",
   "metadata": {},
   "outputs": [],
   "source": [
    "student_a = {'Maths', 'Biology'}\n",
    "student_b = {'Maths', 'Chemistry'}\n",
    "\n",
    "print(student_a.union(student_b))    #set operations\n",
    "print(student_a.intersection(student_b))"
   ]
  },
  {
   "cell_type": "markdown",
   "id": "6147d692",
   "metadata": {},
   "source": [
    "### Dictionaries"
   ]
  },
  {
   "cell_type": "markdown",
   "id": "54aa6013",
   "metadata": {},
   "source": [
    "To understand dictionaries, let us take a look at lists again:-"
   ]
  },
  {
   "cell_type": "code",
   "execution_count": 1,
   "id": "ec62fbf7",
   "metadata": {},
   "outputs": [],
   "source": [
    "# TODO: Make a list called `my_list` with your country of birth, your name, your age, your university and your favorite color.\n",
    "my_list = ['India', 'Saurabh', '6', 'Umich', 'Black']"
   ]
  },
  {
   "cell_type": "markdown",
   "id": "d39380b3",
   "metadata": {},
   "source": [
    "It is easy to get mixed up of which data is which like is black my hair colour or eye colour. It is also difficult to remember which value is at which index. The dictionary data structure enables us to index using meaningful values"
   ]
  },
  {
   "cell_type": "code",
   "execution_count": 4,
   "id": "67813e48",
   "metadata": {},
   "outputs": [
    {
     "data": {
      "text/plain": [
       "'China'"
      ]
     },
     "execution_count": 4,
     "metadata": {},
     "output_type": "execute_result"
    }
   ],
   "source": [
    "sample_dict = {'Key1': 'Value1', 'Key2': 'Value2'}\n",
    "\n",
    "# TODO: Create a dictionary called `my_dict` with the following key-value pairs: \n",
    "# 'Country': your country of birth, 'Name': your name, 'Height': your height, 'University': your university, 'Hair_color': your hair color.\n",
    "my_dict = {'Country': 'China', 'Name': 'Jasper', 'Height': '5\\'9', 'University': 'Umich', 'Hair_color': 'Black'}\n",
    "my_dict['Country']"
   ]
  },
  {
   "cell_type": "code",
   "execution_count": null,
   "id": "c9da7ddf",
   "metadata": {},
   "outputs": [],
   "source": [
    "print(my_dict.keys())\n",
    "print(my_dict.values())"
   ]
  },
  {
   "cell_type": "markdown",
   "id": "b2d12fc9",
   "metadata": {},
   "source": [
    "Dictionary is represented by key value pairs. It is mutable as well"
   ]
  },
  {
   "cell_type": "code",
   "execution_count": null,
   "id": "c786553a",
   "metadata": {},
   "outputs": [],
   "source": [
    "key_labels = ['Country', 'Name', 'Height', 'University', 'Hair_color']\n",
    "value_labels = ['India', 'Saurabh', 6, 'Umich', 'Black']\n",
    "\n",
    "my_dict = dict(list(zip(key_labels,value_labels)))\n",
    "my_dict"
   ]
  },
  {
   "cell_type": "code",
   "execution_count": null,
   "id": "200becae",
   "metadata": {},
   "outputs": [],
   "source": [
    "my_dict['Favourite_book'] = 'Kite Runner' #adding element in dictionary\n",
    "my_dict"
   ]
  },
  {
   "cell_type": "code",
   "execution_count": null,
   "id": "fb388fba",
   "metadata": {},
   "outputs": [],
   "source": [
    "my_dict.pop('Name')  #deleting an element\n",
    "my_dict"
   ]
  },
  {
   "cell_type": "code",
   "execution_count": null,
   "id": "07d9b184",
   "metadata": {},
   "outputs": [],
   "source": [
    "sorted(my_dict.items(),key = lambda x:x[0]) # sorting dictionary"
   ]
  },
  {
   "cell_type": "code",
   "execution_count": null,
   "id": "f931d0fe",
   "metadata": {},
   "outputs": [],
   "source": [
    "my_dict.items()"
   ]
  },
  {
   "cell_type": "code",
   "execution_count": null,
   "id": "c56c2d5c",
   "metadata": {},
   "outputs": [],
   "source": [
    "if 'Hair_color' in my_dict:\n",
    "    print('Yes, it exists')                  #searching dictionary\n",
    "else:  \n",
    "    print('No, it does not exist')"
   ]
  },
  {
   "cell_type": "markdown",
   "id": "fe60a238",
   "metadata": {},
   "source": [
    "**Play with these data structures to get a hang of it. We will be using them a lot in the course while doing ML**"
   ]
  },
  {
   "cell_type": "markdown",
   "id": "17c53c5b",
   "metadata": {},
   "source": [
    "**You will need to learn some things outside of this tutorial as the course progresses, feel free to look them up as you go**"
   ]
  }
 ],
 "metadata": {
  "kernelspec": {
   "display_name": "Python 3",
   "language": "python",
   "name": "python3"
  },
  "language_info": {
   "codemirror_mode": {
    "name": "ipython",
    "version": 3
   },
   "file_extension": ".py",
   "mimetype": "text/x-python",
   "name": "python",
   "nbconvert_exporter": "python",
   "pygments_lexer": "ipython3",
   "version": "3.11.9"
  }
 },
 "nbformat": 4,
 "nbformat_minor": 5
}
