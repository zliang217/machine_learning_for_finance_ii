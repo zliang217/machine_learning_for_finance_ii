{
 "cells": [
  {
   "cell_type": "code",
   "execution_count": 1,
   "metadata": {},
   "outputs": [],
   "source": [
    "# use autoreload to reload modules when they are changed\n",
    "%load_ext autoreload\n",
    "%autoreload 2\n",
    "# add directory to sys path\n",
    "import sys\n",
    "sys.path.append('..')\n",
    "# reload modules\n",
    "import mnist_svm"
   ]
  },
  {
   "cell_type": "code",
   "execution_count": 2,
   "metadata": {},
   "outputs": [
    {
     "name": "stdout",
     "output_type": "stream",
     "text": [
      "Data loaded. Fitting now.\n",
      "[LibSVM]Fitting complete. Predicting now.\n",
      "Prediction complete. Calculating accuracy now.\n",
      "Baseline classifier using an SVM.\n",
      "9785 of 10000 values correct.\n"
     ]
    }
   ],
   "source": [
    "mnist_svm.svm_baseline()"
   ]
  },
  {
   "cell_type": "code",
   "execution_count": null,
   "metadata": {},
   "outputs": [],
   "source": [
    "# use mnist_loader to load data and train 2 models, each an instance of Network in network2.py. One should be trained with quadratic cost and the other with cross-entropy cost.\n",
    "import mnist_loader\n",
    "import network2\n",
    "training_data, validation_data, test_data = mnist_loader.load_data_wrapper()\n",
    "\n",
    "# Initialize networks\\\n",
    "net_ce = network2.Network([784, 30, 10], cost=network2.CrossEntropyCost)\n",
    "net_q = network2.Network([784, 30, 10], cost=network2.QuadraticCost)\n",
    "net_ce_reg = network2.Network([784, 30, 10], cost=network2.CrossEntropyCost)\n",
    "net_q_reg = network2.Network([784, 30, 10], cost=network2.QuadraticCost)\n",
    "print(\"Networks initialized\")\n",
    "\n",
    "# Train networks\n",
    "net_ce.SGD(training_data, 10, 50, 0.5, evaluation_data=validation_data, monitor_evaluation_accuracy=True, verbose = False)\n",
    "print(\"Trained network with cross-entropy cost and no regularization\")\n",
    "net_q.SGD(training_data, 10, 50, 0.5, evaluation_data=validation_data, monitor_evaluation_accuracy=True, verbose = False)\n",
    "print(\"Trained network with quadratic cost and no regularization\")\n",
    "net_ce_reg.SGD(training_data, 10, 50, 0.5, evaluation_data=validation_data, monitor_evaluation_accuracy=True, lmbda = 5.0, verbose = False)\n",
    "print(\"Trained network with cross-entropy cost and regularization\")\n",
    "net_q_reg.SGD(training_data, 10, 50, 0.5, evaluation_data=validation_data, monitor_evaluation_accuracy=True, lmbda = 5.0, verbose = False)\n",
    "print(\"Trained network with quadratic cost and regularization\")\n",
    "\n",
    "#Report test set accuracy for both models\n",
    "print('Accuracy for model trained with cross-entropy cost and no regularization: ', net_ce.accuracy(test_data))\n",
    "print('Accuracy for model trained with quadratic cost and no regularization: ', net_q.accuracy(test_data))\n",
    "print('Accuracy for model trained with cross-entropy cost and regularization: ', net_ce_reg.accuracy(test_data))\n",
    "print('Accuracy for model trained with quadratic cost and regularization: ', net_q_reg.accuracy(test_data))"
   ]
  }
 ],
 "metadata": {
  "kernelspec": {
   "display_name": "ml_finance",
   "language": "python",
   "name": "python3"
  },
  "language_info": {
   "codemirror_mode": {
    "name": "ipython",
    "version": 3
   },
   "file_extension": ".py",
   "mimetype": "text/x-python",
   "name": "python",
   "nbconvert_exporter": "python",
   "pygments_lexer": "ipython3",
   "version": "3.11.9"
  }
 },
 "nbformat": 4,
 "nbformat_minor": 2
}
