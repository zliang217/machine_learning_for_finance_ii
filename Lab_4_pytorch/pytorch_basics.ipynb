{
  "nbformat": 4,
  "nbformat_minor": 0,
  "metadata": {
    "kernelspec": {
      "display_name": "Python 3",
      "language": "python",
      "name": "python3"
    },
    "language_info": {
      "codemirror_mode": {
        "name": "ipython",
        "version": 3
      },
      "file_extension": ".py",
      "mimetype": "text/x-python",
      "name": "python",
      "nbconvert_exporter": "python",
      "pygments_lexer": "ipython3",
      "version": "3.7.2"
    },
    "colab": {
      "name": "01_basics_pytorch.ipynb",
      "provenance": []
    }
  },
  "cells": [
    {
      "cell_type": "markdown",
      "metadata": {
        "id": "l163joRD2Jls",
        "colab_type": "text"
      },
      "source": [
        "# EECS 598 Python Tutorial"
      ]
    },
    {
      "cell_type": "markdown",
      "metadata": {
        "id": "dZF33PYJ2Jlt",
        "colab_type": "text"
      },
      "source": [
        "Adapted from the `CS231n` Python tutorial by Justin Johnson ( http://cs231n.github.io/python-numpy-tutorial )."
      ]
    },
    {
      "cell_type": "markdown",
      "metadata": {
        "id": "InOxZNkc2Jlu",
        "colab_type": "text"
      },
      "source": [
        "## Introduction"
      ]
    },
    {
      "cell_type": "markdown",
      "metadata": {
        "id": "1tPmhryB2Jlu",
        "colab_type": "text"
      },
      "source": [
        "Python is a great general-purpose programming language on its own, but with the help of a few popular libraries (numpy, scipy, matplotlib) it becomes a powerful environment for scientific computing.\n",
        "\n",
        "We expect that many of you will have some experience with Python and numpy; for the rest of you, this section will serve as a quick crash course both on the Python programming language and on the use of Python for scientific computing.\n",
        "\n",
        "Some of you may have previous knowledge in Matlab, in which case we also recommend the numpy for Matlab users page (https://docs.scipy.org/doc/numpy-dev/user/numpy-for-matlab-users.html)."
      ]
    },
    {
      "cell_type": "markdown",
      "metadata": {
        "id": "bFnsPXNZ2Jlv",
        "colab_type": "text"
      },
      "source": [
        "In this tutorial, we will cover:\n",
        "\n",
        "* Basic Python: Basic data types (Containers, Lists, Dictionaries, Sets, Tuples), Functions, Classes\n",
        "* Numpy: Arrays, Array indexing, Datatypes, Array math, Broadcasting\n",
        "* Matplotlib: Plotting, Subplots, Images\n",
        "* PyTorch basics: Tensors, Operations, Linear Regression example"
      ]
    },
    {
      "cell_type": "markdown",
      "metadata": {
        "id": "p1pF1iQt2Jlw",
        "colab_type": "text"
      },
      "source": [
        "### Installation instructions\n",
        "\n",
        "You will need the following python packages for this tutorial: jupyter, numpy, matplotlib, pytorch\n",
        "\n",
        "We recommend installing Anaconda/Miniconda for package management. This makes installation of the packages and their dependencies easy.\n",
        "\n",
        "* Installing Anaconda: https://www.anaconda.com/download\n",
        "* Anaconda cheatsheet: https://conda.io/docs/_downloads/conda-cheatsheet.pdf\n",
        "\n",
        "Optionally, you can also install CUDA if you have a CUDA-enabled GPU. "
      ]
    },
    {
      "cell_type": "code",
      "metadata": {
        "id": "-mwP3n212Jlw",
        "colab_type": "code",
        "colab": {}
      },
      "source": [
        "# conda create --name dlcourse python=3.7\n",
        "# conda activate dlcourse\n",
        "# conda install jupyter numpy matplotlib\n",
        "# conda install -c anaconda cudatoolkit\n",
        "# conda install pytorch torchvision -c pytorch"
      ],
      "execution_count": null,
      "outputs": []
    },
    {
      "cell_type": "markdown",
      "metadata": {
        "id": "jEYF0Nbl2Jop",
        "colab_type": "text"
      },
      "source": [
        "## PyTorch\n",
        "\n",
        "WHAT IS PYTORCH?\n",
        "\n",
        "It’s a Python-based scientific computing package targeted at two sets of audiences:\n",
        "\n",
        "* A replacement for NumPy to use the power of GPUs\n",
        "* a deep learning research platform that provides maximum flexibility and speed"
      ]
    },
    {
      "cell_type": "markdown",
      "metadata": {
        "id": "gCluOwzJ2Joq",
        "colab_type": "text"
      },
      "source": [
        "### Tensors\n",
        "\n",
        "Tensors are similar to NumPy’s ndarrays, with the addition being that Tensors can also be used on a GPU to accelerate computing."
      ]
    },
    {
      "cell_type": "markdown",
      "metadata": {
        "id": "qvgMuRFh2Joq",
        "colab_type": "text"
      },
      "source": [
        "PyTorch provides functions similar to numpy to create tensors:"
      ]
    },
    {
      "cell_type": "code",
      "metadata": {
        "id": "9SM8dVJh2Joq",
        "colab_type": "code",
        "colab": {}
      },
      "source": [
        "import torch"
      ],
      "execution_count": null,
      "outputs": []
    },
    {
      "cell_type": "code",
      "metadata": {
        "id": "Uu2AUayb2Jor",
        "colab_type": "code",
        "colab": {},
        "outputId": "8962e835-d616-4928-dcbe-2c3addaf35e6"
      },
      "source": [
        "x = torch.empty(2, 3) # Construct a 5x3 matrix, uninitialized\n",
        "print(x)\n",
        "print(x.size()) # torch.Size is a tuple, so it supports all tuple operations"
      ],
      "execution_count": null,
      "outputs": [
        {
          "output_type": "stream",
          "text": [
            "tensor([[ 0.0000e+00, -2.5244e-29, -8.8390e+22],\n",
            "        [ 2.5250e-29, -8.7954e+22, -2.0005e+00]])\n",
            "torch.Size([2, 3])\n"
          ],
          "name": "stdout"
        }
      ]
    },
    {
      "cell_type": "code",
      "metadata": {
        "id": "vylcMhQE2Jos",
        "colab_type": "code",
        "colab": {},
        "outputId": "9f198a77-e300-4e57-9c9e-efb53d0f7484"
      },
      "source": [
        "x = torch.rand(2, 3) # Construct a randomly initialized matrix\n",
        "print(x)"
      ],
      "execution_count": null,
      "outputs": [
        {
          "output_type": "stream",
          "text": [
            "tensor([[0.5942, 0.1682, 0.1602],\n",
            "        [0.2713, 0.7422, 0.2591]])\n"
          ],
          "name": "stdout"
        }
      ]
    },
    {
      "cell_type": "code",
      "metadata": {
        "id": "LSglEAJy2Jot",
        "colab_type": "code",
        "colab": {},
        "outputId": "e7a27d4c-5d27-4022-9d24-5fea7ad8f9ea"
      },
      "source": [
        "x = torch.zeros(5, 3, dtype=torch.long) # Construct a matrix filled zeros and of dtype long\n",
        "print(x)"
      ],
      "execution_count": null,
      "outputs": [
        {
          "output_type": "stream",
          "text": [
            "tensor([[0, 0, 0],\n",
            "        [0, 0, 0],\n",
            "        [0, 0, 0],\n",
            "        [0, 0, 0],\n",
            "        [0, 0, 0]])\n"
          ],
          "name": "stdout"
        }
      ]
    },
    {
      "cell_type": "code",
      "metadata": {
        "id": "2mpsMSiN2Jou",
        "colab_type": "code",
        "colab": {},
        "outputId": "4003b2d3-7aaa-4652-84f1-f6374baf8e94"
      },
      "source": [
        "x = torch.tensor([5.5, 3]) # Construct a tensor directly from data\n",
        "print(x)"
      ],
      "execution_count": null,
      "outputs": [
        {
          "output_type": "stream",
          "text": [
            "tensor([5.5000, 3.0000])\n"
          ],
          "name": "stdout"
        }
      ]
    },
    {
      "cell_type": "code",
      "metadata": {
        "id": "HQak9CAP2Jov",
        "colab_type": "code",
        "colab": {},
        "outputId": "751dea06-2668-4c3a-f3e5-e88731264215"
      },
      "source": [
        "# create a tensor based on an existing tensor. These methods will reuse properties of the input tensor, e.g. dtype, unless new values are provided by user\n",
        "x = x.new_ones(2, 3, dtype=torch.double)      # new_* methods take in sizes\n",
        "print(x)\n",
        "\n",
        "x = torch.randn_like(x, dtype=torch.float)    # override dtype!\n",
        "print(x)"
      ],
      "execution_count": null,
      "outputs": [
        {
          "output_type": "stream",
          "text": [
            "tensor([[1., 1., 1.],\n",
            "        [1., 1., 1.]], dtype=torch.float64)\n",
            "tensor([[ 0.3531, -0.4168, -0.6011],\n",
            "        [ 1.8560,  0.8437,  0.3677]])\n"
          ],
          "name": "stdout"
        }
      ]
    },
    {
      "cell_type": "markdown",
      "metadata": {
        "id": "S01zJDNR2Jox",
        "colab_type": "text"
      },
      "source": [
        "### Operations"
      ]
    },
    {
      "cell_type": "markdown",
      "metadata": {
        "id": "QUcSOSZe2Joy",
        "colab_type": "text"
      },
      "source": [
        "There are multiple syntaxes for operations. In the following example, we will take a look at the addition operation."
      ]
    },
    {
      "cell_type": "code",
      "metadata": {
        "id": "G1DynQnm2Joz",
        "colab_type": "code",
        "colab": {},
        "outputId": "053ddea2-0009-49bc-d3e1-5968b50b6f4f"
      },
      "source": [
        "y = torch.rand(2, 3)\n",
        "print(x + y)\n",
        "\n",
        "print(torch.add(x, y))\n",
        "\n",
        "result = torch.empty(2, 3)\n",
        "torch.add(x, y, out=result) # Providing an output tensor as argument\n",
        "print(result)\n",
        "\n",
        "y.add_(x) # In-place addition\n",
        "print(y)"
      ],
      "execution_count": null,
      "outputs": [
        {
          "output_type": "stream",
          "text": [
            "tensor([[ 1.1638, -0.0246, -0.5701],\n",
            "        [ 2.7208,  1.3065,  0.8159]])\n",
            "tensor([[ 1.1638, -0.0246, -0.5701],\n",
            "        [ 2.7208,  1.3065,  0.8159]])\n",
            "tensor([[ 1.1638, -0.0246, -0.5701],\n",
            "        [ 2.7208,  1.3065,  0.8159]])\n",
            "tensor([[ 1.1638, -0.0246, -0.5701],\n",
            "        [ 2.7208,  1.3065,  0.8159]])\n"
          ],
          "name": "stdout"
        }
      ]
    },
    {
      "cell_type": "markdown",
      "metadata": {
        "id": "cRMEMkyg2Jo0",
        "colab_type": "text"
      },
      "source": [
        "Any operation that mutates a tensor in-place is post-fixed with an \\_. For example: x.copy_(y), x.t_(), will change x."
      ]
    },
    {
      "cell_type": "markdown",
      "metadata": {
        "id": "0X2tBsQ62Jo0",
        "colab_type": "text"
      },
      "source": [
        "### Indexing\n",
        "\n",
        "You can use standard numpy-like indexing"
      ]
    },
    {
      "cell_type": "markdown",
      "metadata": {
        "id": "q9hBrbj22Jo0",
        "colab_type": "text"
      },
      "source": [
        "If you have a one element tensor, use .item() to get the value as a Python number"
      ]
    },
    {
      "cell_type": "code",
      "metadata": {
        "id": "Jg66igYP2Jo1",
        "colab_type": "code",
        "colab": {},
        "outputId": "9cad025e-b8aa-4514-d617-176e6b4d6115"
      },
      "source": [
        "x = torch.randn(1)\n",
        "print(x)\n",
        "print(x.item())"
      ],
      "execution_count": null,
      "outputs": [
        {
          "output_type": "stream",
          "text": [
            "tensor([0.8149])\n",
            "0.8149430751800537\n"
          ],
          "name": "stdout"
        }
      ]
    },
    {
      "cell_type": "markdown",
      "metadata": {
        "id": "Bx2hGJU12Jo2",
        "colab_type": "text"
      },
      "source": [
        "**Read later:**\n",
        "\n",
        "\n",
        "  100+ Tensor operations, including transposing, indexing, slicing,\n",
        "  mathematical operations, linear algebra, random numbers, etc.,\n",
        "  are described here <https://pytorch.org/docs/torch>.\n",
        "\n",
        "### NumPy Bridge\n",
        "\n",
        "Converting a Torch Tensor to a NumPy array and vice versa is a breeze.\n",
        "\n",
        "The Torch Tensor and NumPy array will share their underlying memory\n",
        "locations, and changing one will change the other.\n"
      ]
    },
    {
      "cell_type": "code",
      "metadata": {
        "id": "qGoV2xC32Jo2",
        "colab_type": "code",
        "colab": {},
        "outputId": "af18b092-0c9f-4c16-bac5-541813f89a74"
      },
      "source": [
        "a = torch.ones(5)\n",
        "print(a)\n",
        "b = a.numpy() # Converts torch tensor to numpy array\n",
        "print(b)\n",
        "\n",
        "a.add_(1)\n",
        "print(a)\n",
        "print(b)"
      ],
      "execution_count": null,
      "outputs": [
        {
          "output_type": "stream",
          "text": [
            "tensor([1., 1., 1., 1., 1.])\n",
            "[1. 1. 1. 1. 1.]\n",
            "tensor([2., 2., 2., 2., 2.])\n",
            "[2. 2. 2. 2. 2.]\n"
          ],
          "name": "stdout"
        }
      ]
    },
    {
      "cell_type": "code",
      "metadata": {
        "scrolled": true,
        "id": "tVV33BAe2Jo3",
        "colab_type": "code",
        "colab": {},
        "outputId": "7c9bb9ed-4e73-4ce2-c46c-9bb9b5b4b2cc"
      },
      "source": [
        "import numpy as np\n",
        "a = np.ones(5)\n",
        "b = torch.from_numpy(a) # Converts numpy array to torch tensor\n",
        "np.add(a, 1, out=a)\n",
        "print(a)\n",
        "print(b)"
      ],
      "execution_count": null,
      "outputs": [
        {
          "output_type": "stream",
          "text": [
            "[2. 2. 2. 2. 2.]\n",
            "tensor([2., 2., 2., 2., 2.], dtype=torch.float64)\n"
          ],
          "name": "stdout"
        }
      ]
    },
    {
      "cell_type": "markdown",
      "metadata": {
        "id": "eHmQkJCC2Jo4",
        "colab_type": "text"
      },
      "source": [
        "### CUDA Tensor\n",
        "Tensors can be moved onto any device using the .to method."
      ]
    },
    {
      "cell_type": "code",
      "metadata": {
        "id": "SLndMbNO2Jo4",
        "colab_type": "code",
        "colab": {}
      },
      "source": [
        "# let us run this cell only if CUDA is available\n",
        "# We will use ``torch.device`` objects to move tensors in and out of GPU\n",
        "if torch.cuda.is_available():\n",
        "    device = torch.device(\"cuda\")          # a CUDA device object\n",
        "    y = torch.ones_like(x, device=device)  # directly create a tensor on GPU\n",
        "    x = x.to(device)                       # or just use strings ``.to(\"cuda\")``\n",
        "    z = x + y\n",
        "    print(z)\n",
        "    print(z.to(\"cpu\", torch.double))       # ``.to`` can also change dtype together!"
      ],
      "execution_count": null,
      "outputs": []
    },
    {
      "cell_type": "markdown",
      "metadata": {
        "id": "hykmfZQW2Jo5",
        "colab_type": "text"
      },
      "source": [
        "### Linear Regression example"
      ]
    },
    {
      "cell_type": "markdown",
      "metadata": {
        "id": "YCqdANGx2Jo5",
        "colab_type": "text"
      },
      "source": [
        "torch.nn is a Neural Network package useful for constructing models which provides layers, activation functions, loss functions, etc. ( https://github.com/torch/nn )"
      ]
    },
    {
      "cell_type": "code",
      "metadata": {
        "id": "ioXWhTsp2Jo5",
        "colab_type": "code",
        "colab": {}
      },
      "source": [
        "from itertools import count\n",
        "\n",
        "import torch\n",
        "import torch.autograd\n",
        "import torch.nn as nn\n",
        "import torch.nn.functional as F"
      ],
      "execution_count": null,
      "outputs": []
    },
    {
      "cell_type": "markdown",
      "metadata": {
        "id": "QZka4lk12Jo6",
        "colab_type": "text"
      },
      "source": [
        "Define a polynomial function"
      ]
    },
    {
      "cell_type": "code",
      "metadata": {
        "id": "6KmxvfEr2Jo6",
        "colab_type": "code",
        "colab": {}
      },
      "source": [
        "POLY_DEGREE = 4\n",
        "W_target = torch.randn(POLY_DEGREE, 1) * 5\n",
        "b_target = torch.randn(1) * 5\n",
        "\n",
        "def f(x):\n",
        "    \"\"\"Approximated function.\"\"\"\n",
        "    return x.mm(W_target) + b_target.item()"
      ],
      "execution_count": null,
      "outputs": []
    },
    {
      "cell_type": "markdown",
      "metadata": {
        "id": "TERvrPDA2Jo7",
        "colab_type": "text"
      },
      "source": [
        "Data loader and other utils"
      ]
    },
    {
      "cell_type": "code",
      "metadata": {
        "id": "elWq2-oX2Jo7",
        "colab_type": "code",
        "colab": {}
      },
      "source": [
        "def make_features(x):\n",
        "    \"\"\"Builds features i.e. a matrix with columns [x, x^2, x^3, x^4].\"\"\"\n",
        "    x = x.unsqueeze(1)\n",
        "    return torch.cat([x ** i for i in range(1, POLY_DEGREE+1)], 1)\n",
        "\n",
        "def get_batch(batch_size=32):\n",
        "    \"\"\"Builds a batch i.e. (x, f(x)) pair.\"\"\"\n",
        "    random = torch.randn(batch_size)\n",
        "    x = make_features(random)\n",
        "    y = f(x)\n",
        "    return x, y\n",
        "\n",
        "def poly_desc(W, b):\n",
        "    \"\"\"Creates a string description of a polynomial.\"\"\"\n",
        "    result = 'y = '\n",
        "    for i, w in enumerate(W):\n",
        "        result += '{:+.2f} x^{} '.format(w, len(W) - i)\n",
        "    result += '{:+.2f}'.format(b[0])\n",
        "    return result"
      ],
      "execution_count": null,
      "outputs": []
    },
    {
      "cell_type": "markdown",
      "metadata": {
        "id": "eWHfnx--2Jo7",
        "colab_type": "text"
      },
      "source": [
        "Defining the model"
      ]
    },
    {
      "cell_type": "code",
      "metadata": {
        "id": "qSw046BT2Jo8",
        "colab_type": "code",
        "colab": {}
      },
      "source": [
        "# Define model\n",
        "model = nn.Linear(W_target.size(0), 1)"
      ],
      "execution_count": null,
      "outputs": []
    },
    {
      "cell_type": "markdown",
      "metadata": {
        "id": "jX1YK2rO2Jo8",
        "colab_type": "text"
      },
      "source": [
        "Training loop"
      ]
    },
    {
      "cell_type": "code",
      "metadata": {
        "id": "9VV-ve6A2Jo8",
        "colab_type": "code",
        "colab": {},
        "outputId": "e8ed9cde-4615-44e0-8e8f-8a780f40942a"
      },
      "source": [
        "for batch_idx in count(1):\n",
        "    # Get data\n",
        "    batch_x, batch_y = get_batch()\n",
        "\n",
        "    # Reset gradients\n",
        "    model.zero_grad()\n",
        "\n",
        "    # Forward pass\n",
        "    output = F.smooth_l1_loss(model(batch_x), batch_y)\n",
        "    loss = output.item()\n",
        "\n",
        "    # Backward pass\n",
        "    output.backward()\n",
        "    \n",
        "    # Apply gradients\n",
        "    for param in model.parameters():\n",
        "        param.data.add_(-0.1 * param.grad.data)\n",
        "\n",
        "    # Stop criterion\n",
        "    if loss < 1e-3:\n",
        "        break\n",
        "\n",
        "print('Loss: {:.6f} after {} batches'.format(loss, batch_idx))\n",
        "print('==> Learned function:\\t' + poly_desc(model.weight.view(-1), model.bias))\n",
        "print('==> Actual function:\\t' + poly_desc(W_target.view(-1), b_target))"
      ],
      "execution_count": null,
      "outputs": [
        {
          "output_type": "stream",
          "text": [
            "Loss: 0.000201 after 268 batches\n",
            "==> Learned function:\ty = +5.18 x^4 -2.41 x^3 -3.13 x^2 +1.85 x^1 -5.46\n",
            "==> Actual function:\ty = +5.19 x^4 -2.43 x^3 -3.12 x^2 +1.86 x^1 -5.46\n"
          ],
          "name": "stdout"
        }
      ]
    },
    {
      "cell_type": "markdown",
      "metadata": {
        "id": "zB3nK_bL2Jo9",
        "colab_type": "text"
      },
      "source": [
        "Here's a slightly more advanced example of a Convolutional Neural Network for MNIST digit classification. <https://github.com/pytorch/examples/blob/master/mnist/main.py>"
      ]
    },
    {
      "cell_type": "markdown",
      "metadata": {
        "id": "991ChjrP2Jo9",
        "colab_type": "text"
      },
      "source": [
        "### Other Resources\n",
        "\n",
        "Here are some other useful resources on PyTorch\n",
        "\n",
        "* https://cs230-stanford.github.io/pytorch-getting-started.html\n",
        "* https://github.com/jcjohnson/pytorch-examples\n",
        "* https://pytorch.org/tutorials/beginner/deep_learning_60min_blitz.html"
      ]
    }
  ]
}