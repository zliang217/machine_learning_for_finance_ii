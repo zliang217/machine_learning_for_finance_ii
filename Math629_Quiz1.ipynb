{
 "cells": [
  {
   "cell_type": "markdown",
   "id": "62f542ee-f22e-459a-a246-24d3720c5451",
   "metadata": {},
   "source": [
    "Q1 (20 Points). Generate two random numbers, n1, and n2 between 6 and 10. Construct an identity matrix my_eye, of size n1 by n2 (do not hard code). Then, construct a tensor of zeros, my_zeros of size of the same size as my_eye (do not specify n1 or n2 when you create my_zeros)."
   ]
  },
  {
   "cell_type": "code",
   "execution_count": null,
   "id": "b7dd9905-06c8-435d-b7f7-5001a7fc7b47",
   "metadata": {},
   "outputs": [],
   "source": []
  },
  {
   "cell_type": "markdown",
   "id": "db37112d-1b7b-47a0-9468-307cebb4e112",
   "metadata": {},
   "source": [
    "Q2 (10 Points). Write a function that uses slicing assignment operations to modify the first 6 rows and first 8 columns of the tensor my zeros so they are equal to\n",
    "\n",
    "$$\n",
    "\\begin{bmatrix}\n",
    "0 & 1 & 1 & 2 & 2 & 2 & 2 & 2\\\\\n",
    "0 & 1 & 1 & 2 & 2 & 2 & 2 & 2\\\\\n",
    "3 & 4 & 3 & 4 & 5 & 5 & 6 & 8\\\\\n",
    "3 & 4 & 3 & 4 & 5 & 5 & 6 & 8\\\\\n",
    "3 & 4 & 3 & 4 & 5 & 5 & 6 & 8\\\\\n",
    "3 & 4 & 3 & 4 & 5 & 5 & 6 & 8\\\\\n",
    "\\end{bmatrix}\n",
    "$$"
   ]
  },
  {
   "cell_type": "code",
   "execution_count": null,
   "id": "fcc262be-5446-4eca-ac8a-77e0a58a5a12",
   "metadata": {},
   "outputs": [],
   "source": []
  },
  {
   "cell_type": "markdown",
   "id": "d9dc32ea-ade0-41c8-a3b2-115013b26edb",
   "metadata": {},
   "source": [
    "Q3 (20+10 Points). $softplus(𝑥) = \\alpha x + (1- \\alpha) Log(1 +e^x)$ represents a family of smooth functions that can replace ReLu. Use your last two digits of UM ID divided by 100 as $\\alpha$ (for example if the last two digits are 95, choose 0.95).\n",
    "Evaluate the gradient of this function at x = -0.1 , x = 0.0, and x= 0.1 using Pytorch autograd functionality and verify them by its closed form. You get bonus points if you plot a few of these along with ReLU"
   ]
  },
  {
   "cell_type": "code",
   "execution_count": null,
   "id": "ad55aa61-5ee6-4240-9d35-1f8e57ba3d25",
   "metadata": {},
   "outputs": [],
   "source": []
  },
  {
   "cell_type": "markdown",
   "id": "b81e5ab7-4585-481e-a0d5-bc5b624675d7",
   "metadata": {},
   "source": [
    "Q4-1 (5 Points). In terms of computational efficiency, what is achieved during backpropagation modular implementation? \n"
   ]
  },
  {
   "cell_type": "markdown",
   "id": "d95aed1f-2e82-47aa-9d6f-417dd448bb23",
   "metadata": {},
   "source": []
  },
  {
   "cell_type": "markdown",
   "id": "93b5c123-c5b7-40ff-9168-755757fa26b6",
   "metadata": {},
   "source": [
    "Q4-2 (5 Points) What are the advantages of the stochastic and batch gradient descent methods (one of each)? "
   ]
  },
  {
   "cell_type": "markdown",
   "id": "68d2106e-217a-4d95-b8cf-f50dbb5b6e86",
   "metadata": {},
   "source": []
  },
  {
   "cell_type": "markdown",
   "id": "30d5e87e-8527-4a5c-9dae-3cc8dbac2ba0",
   "metadata": {},
   "source": [
    "Q5. (10 Points) Number of parameters required to model a feedforward neural network which takes 30 $\\times$ 30 gray scale image data as input, has three hidden layers with four hidden units each, and learns a five class in the output layer, are: "
   ]
  },
  {
   "cell_type": "code",
   "execution_count": null,
   "id": "fa3b1215-aa1d-41f8-8bc0-6fda57f511b3",
   "metadata": {},
   "outputs": [],
   "source": []
  },
  {
   "cell_type": "markdown",
   "id": "870ec126-14fe-4a4d-8378-666568602b74",
   "metadata": {},
   "source": [
    "Q6 (10+10 Points). a) What happens if we remove all non-linearities between the layers of neural networks in above question? <br>\n",
    "b) What is the best strategy for initializing a neural network weights?\n",
    "(Bonus) What can go wrong if we initialize all weights to be equal at the beginning of training?"
   ]
  },
  {
   "cell_type": "code",
   "execution_count": null,
   "id": "dcd21bc0-f9f0-4751-81ab-496c9d762656",
   "metadata": {},
   "outputs": [],
   "source": []
  },
  {
   "cell_type": "markdown",
   "id": "12af320b-0ed0-4063-85f8-91ed0974580a",
   "metadata": {},
   "source": [
    "Q7 (20 Point). Create a dataset class \"set_xx\" as a subclass of abstract class Dataset from torch.utils.data where xx are the last two digits of your UM ID. Your class creates an object by accepting an integer, n as the length that by default is 20. This object has two attributes X and y. X and y are tensors of n $\\times$ 3 and n $\\times$ 2 of ones. Create an instance of this class with a name and size of your choice. "
   ]
  },
  {
   "cell_type": "code",
   "execution_count": null,
   "id": "18d750ce-22bf-4212-a43b-0bea7ade01d0",
   "metadata": {},
   "outputs": [],
   "source": []
  }
 ],
 "metadata": {
  "kernelspec": {
   "display_name": "Python 3 (ipykernel)",
   "language": "python",
   "name": "python3"
  },
  "language_info": {
   "codemirror_mode": {
    "name": "ipython",
    "version": 3
   },
   "file_extension": ".py",
   "mimetype": "text/x-python",
   "name": "python",
   "nbconvert_exporter": "python",
   "pygments_lexer": "ipython3",
   "version": "3.10.0"
  }
 },
 "nbformat": 4,
 "nbformat_minor": 5
}
